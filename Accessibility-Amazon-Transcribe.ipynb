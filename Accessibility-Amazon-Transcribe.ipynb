{
 "cells": [
  {
   "cell_type": "markdown",
   "metadata": {},
   "source": [
    "# ENEL ACCESSIBILITY: Speech-to-text transcripts from Amazon Transcribe using custom vocabularies and Amazon Augmented AI\n",
    "### Objective of this Notebook is to provide a POC environment for ENEL in order to automate caption and human review workflow for internal video for education purposes.\n",
    "\n",
    "### demo is based on two video from you tube uploaded in a local input folder inside this JN\n",
    "### https://www.youtube.com/watch?v=Va27qoChrqI\n",
    "### https://www.youtube.com/watch?v=9-GTaopuMhU"
   ]
  },
  {
   "cell_type": "markdown",
   "metadata": {},
   "source": [
    "# Setup"
   ]
  },
  {
   "cell_type": "markdown",
   "metadata": {},
   "source": [
    "### Install Latest SDKs"
   ]
  },
  {
   "cell_type": "code",
   "execution_count": 13,
   "metadata": {
    "tags": []
   },
   "outputs": [
    {
     "name": "stdout",
     "output_type": "stream",
     "text": [
      "\u001b[33mWARNING: Running pip as the 'root' user can result in broken permissions and conflicting behaviour with the system package manager. It is recommended to use a virtual environment instead: https://pip.pypa.io/warnings/venv\u001b[0m\u001b[33m\n",
      "\u001b[0m\u001b[33mWARNING: Running pip as the 'root' user can result in broken permissions and conflicting behaviour with the system package manager. It is recommended to use a virtual environment instead: https://pip.pypa.io/warnings/venv\u001b[0m\u001b[33m\n",
      "\u001b[0m\u001b[33mWARNING: Running pip as the 'root' user can result in broken permissions and conflicting behaviour with the system package manager. It is recommended to use a virtual environment instead: https://pip.pypa.io/warnings/venv\u001b[0m\u001b[33m\n",
      "\u001b[0m\u001b[33mWARNING: Running pip as the 'root' user can result in broken permissions and conflicting behaviour with the system package manager. It is recommended to use a virtual environment instead: https://pip.pypa.io/warnings/venv\u001b[0m\u001b[33m\n",
      "\u001b[0m"
     ]
    }
   ],
   "source": [
    "# First, let's get the latest installations of our dependencies\n",
    "# Following pip install are not required as you run it in a SM Studio NB\n",
    "# !pip install --upgrade pip --quiet\n",
    "# !pip install --upgrade awscli --quiet\n",
    "# !pip install -U botocore --quiet\n",
    "!pip install boto3 --upgrade --quiet"
   ]
  },
  {
   "cell_type": "code",
   "execution_count": 3,
   "metadata": {},
   "outputs": [],
   "source": [
    "import io\n",
    "import uuid\n",
    "import botocore\n",
    "import boto3\n",
    "import re\n",
    "import time\n",
    "import pprint\n",
    "import subprocess\n",
    "import json\n",
    "import sagemaker\n",
    "from sagemaker import get_execution_role\n",
    "from datetime import datetime, timezone"
   ]
  },
  {
   "cell_type": "markdown",
   "metadata": {},
   "source": [
    "### Region, Bucket, and Paths\n",
    "Make sure all your resources are stored in the same region.Bucket needs to be created upfront (in the same region as Notebook)"
   ]
  },
  {
   "cell_type": "code",
   "execution_count": 8,
   "metadata": {},
   "outputs": [
    {
     "name": "stdout",
     "output_type": "stream",
     "text": [
      "The S3 bucket used in this demo will be: cris-transcribe-accessibility-2\n"
     ]
    }
   ],
   "source": [
    "BUCKET = 'cris-transcribe-accessibility-2' #Add your bucket name here\n",
    "\n",
    "if(BUCKET==''):\n",
    "    BUCKET = sagemaker.Session().default_bucket()\n",
    "print(f'The S3 bucket used in this demo will be: {BUCKET}')\n",
    "\n",
    "#path output service Augmented AI\n",
    "OUTPUT_PATH_A2I = f's3://{BUCKET}/a2i-results'\n",
    "#path output service transcribe\n",
    "OUTPUT_PATH_TRANSCRIBE = f's3://{BUCKET}/transcribe-results'"
   ]
  },
  {
   "cell_type": "code",
   "execution_count": 9,
   "metadata": {},
   "outputs": [],
   "source": [
    "sess = sagemaker.session.Session()\n",
    "role = sagemaker.get_execution_role()\n",
    "region = boto3.session.Session().region_name\n",
    "\n",
    "# Amazon S3 (S3) client\n",
    "s3 = boto3.client('s3', region)\n",
    "bucket_region = s3.head_bucket(Bucket=BUCKET)['ResponseMetadata']['HTTPHeaders']['x-amz-bucket-region']\n",
    "assert bucket_region == region, \"Your S3 bucket {} and this notebook need to be in the same region.\".format(BUCKET)\n",
    "\n",
    "##We will use 3 services: SageMaker, Augmeted AI (optional), Transcribe\n",
    "# Amazon SageMaker client\n",
    "sagemaker_client = boto3.client('sagemaker')\n",
    "\n",
    "# Amazon Augment AI (A2I) client\n",
    "a2i = boto3.client('sagemaker-a2i-runtime')\n",
    "\n",
    "# Amazon Transcribe client\n",
    "transcribe_client = boto3.client(\"transcribe\")"
   ]
  },
  {
   "cell_type": "markdown",
   "metadata": {},
   "source": [
    "### Roles and Permissions"
   ]
  },
  {
   "cell_type": "markdown",
   "metadata": {},
   "source": [
    "This is the execution role that will be used to call Amazon Transcribe and Amazon A2I. "
   ]
  },
  {
   "cell_type": "code",
   "execution_count": 10,
   "metadata": {},
   "outputs": [
    {
     "data": {
      "text/plain": [
       "'arn:aws:iam::733414849973:role/service-role/AmazonSageMaker-ExecutionRole-20220509T151731'"
      ]
     },
     "metadata": {},
     "output_type": "display_data"
    }
   ],
   "source": [
    "from sagemaker import get_execution_role\n",
    "\n",
    "ROLE = get_execution_role()\n",
    "display(ROLE)"
   ]
  },
  {
   "cell_type": "markdown",
   "metadata": {},
   "source": [
    "Add the following policies to this role in IAM:\n",
    "* AmazonAugmentedAIFullAccess\n",
    "* AmazonTranscribeFullAccess\n",
    "\n",
    "Your execution role has the AmazonSageMakerFullAccess policy attached. This gives Amazon SageMaker permission to access your resources in S3 if the bucket or objects have the word `sagemaker` in the name. If your S3 bucket listed in `BUCKET` does not have sagemaker in the name, you will need to add an S3 policy to your execution role to give your role permissions to access your data objects in S3. The following is an example of an S3 policy:\n",
    "\n",
    "```\n",
    "{\n",
    "    \"Version\": \"2012-10-17\",\n",
    "    \"Statement\": [\n",
    "        {\n",
    "            \"Effect\": \"Allow\",\n",
    "            \"Action\": [\n",
    "                \"s3:GetObject\"\n",
    "            ],\n",
    "            \"Resource\": [\n",
    "                \"arn:aws:s3:::my_input_bucket/*\"\n",
    "            ]\n",
    "        },\n",
    "        {\n",
    "            \"Effect\": \"Allow\",\n",
    "            \"Action\": [\n",
    "                \"s3:PutObject\"\n",
    "            ],\n",
    "            \"Resource\": [\n",
    "                \"arn:aws:s3:::my_output_bucket/*\"\n",
    "            ]\n",
    "        }\n",
    "    ]\n",
    "}\n",
    "```\n"
   ]
  },
  {
   "cell_type": "markdown",
   "metadata": {},
   "source": [
    "Note: your default **Maximum CLI/API session duration** (MaxSessionDuration) for this execution role is 1 hour. It is recommended that you [increase MaxSessionDuration](https://docs.aws.amazon.com/IAM/latest/UserGuide/roles-managingrole-editing-console.html#roles-modify_max-session-duration) to 2 hours. If you take more than `MaxSessionDuration`-hours to complete the notebook, you may have to re-run previous code cells, and all code cells that define functions below. "
   ]
  },
  {
   "cell_type": "markdown",
   "metadata": {},
   "source": [
    "### Upload Sample Video to S3\n"
   ]
  },
  {
   "cell_type": "code",
   "execution_count": 11,
   "metadata": {},
   "outputs": [],
   "source": [
    "!rm -rf ./a2i_transcribe_demo*"
   ]
  },
  {
   "cell_type": "markdown",
   "metadata": {},
   "source": [
    "### load the file from your environment into your s3 bucket "
   ]
  },
  {
   "cell_type": "code",
   "execution_count": 12,
   "metadata": {},
   "outputs": [
    {
     "name": "stderr",
     "output_type": "stream",
     "text": [
      "\n",
      "The user-provided path ./Input/ does not exist.\n"
     ]
    },
    {
     "ename": "CalledProcessError",
     "evalue": "Command 'b'aws s3 cp ./Input/ s3://$1/input/ --recursive\\n'' returned non-zero exit status 255.",
     "output_type": "error",
     "traceback": [
      "\u001b[0;31m---------------------------------------------------------------------------\u001b[0m",
      "\u001b[0;31mCalledProcessError\u001b[0m                        Traceback (most recent call last)",
      "\u001b[0;32m<ipython-input-12-6edd004ca9b6>\u001b[0m in \u001b[0;36m<module>\u001b[0;34m\u001b[0m\n\u001b[0;32m----> 1\u001b[0;31m \u001b[0mget_ipython\u001b[0m\u001b[0;34m(\u001b[0m\u001b[0;34m)\u001b[0m\u001b[0;34m.\u001b[0m\u001b[0mrun_cell_magic\u001b[0m\u001b[0;34m(\u001b[0m\u001b[0;34m'bash'\u001b[0m\u001b[0;34m,\u001b[0m \u001b[0;34m'-s \"$BUCKET\"'\u001b[0m\u001b[0;34m,\u001b[0m \u001b[0;34m'aws s3 cp ./Input/ s3://$1/input/ --recursive\\n'\u001b[0m\u001b[0;34m)\u001b[0m\u001b[0;34m\u001b[0m\u001b[0;34m\u001b[0m\u001b[0m\n\u001b[0m",
      "\u001b[0;32m/opt/conda/lib/python3.7/site-packages/IPython/core/interactiveshell.py\u001b[0m in \u001b[0;36mrun_cell_magic\u001b[0;34m(self, magic_name, line, cell)\u001b[0m\n\u001b[1;32m   2471\u001b[0m             \u001b[0;32mwith\u001b[0m \u001b[0mself\u001b[0m\u001b[0;34m.\u001b[0m\u001b[0mbuiltin_trap\u001b[0m\u001b[0;34m:\u001b[0m\u001b[0;34m\u001b[0m\u001b[0;34m\u001b[0m\u001b[0m\n\u001b[1;32m   2472\u001b[0m                 \u001b[0margs\u001b[0m \u001b[0;34m=\u001b[0m \u001b[0;34m(\u001b[0m\u001b[0mmagic_arg_s\u001b[0m\u001b[0;34m,\u001b[0m \u001b[0mcell\u001b[0m\u001b[0;34m)\u001b[0m\u001b[0;34m\u001b[0m\u001b[0;34m\u001b[0m\u001b[0m\n\u001b[0;32m-> 2473\u001b[0;31m                 \u001b[0mresult\u001b[0m \u001b[0;34m=\u001b[0m \u001b[0mfn\u001b[0m\u001b[0;34m(\u001b[0m\u001b[0;34m*\u001b[0m\u001b[0margs\u001b[0m\u001b[0;34m,\u001b[0m \u001b[0;34m**\u001b[0m\u001b[0mkwargs\u001b[0m\u001b[0;34m)\u001b[0m\u001b[0;34m\u001b[0m\u001b[0;34m\u001b[0m\u001b[0m\n\u001b[0m\u001b[1;32m   2474\u001b[0m             \u001b[0;32mreturn\u001b[0m \u001b[0mresult\u001b[0m\u001b[0;34m\u001b[0m\u001b[0;34m\u001b[0m\u001b[0m\n\u001b[1;32m   2475\u001b[0m \u001b[0;34m\u001b[0m\u001b[0m\n",
      "\u001b[0;32m/opt/conda/lib/python3.7/site-packages/IPython/core/magics/script.py\u001b[0m in \u001b[0;36mnamed_script_magic\u001b[0;34m(line, cell)\u001b[0m\n\u001b[1;32m    140\u001b[0m             \u001b[0;32melse\u001b[0m\u001b[0;34m:\u001b[0m\u001b[0;34m\u001b[0m\u001b[0;34m\u001b[0m\u001b[0m\n\u001b[1;32m    141\u001b[0m                 \u001b[0mline\u001b[0m \u001b[0;34m=\u001b[0m \u001b[0mscript\u001b[0m\u001b[0;34m\u001b[0m\u001b[0;34m\u001b[0m\u001b[0m\n\u001b[0;32m--> 142\u001b[0;31m             \u001b[0;32mreturn\u001b[0m \u001b[0mself\u001b[0m\u001b[0;34m.\u001b[0m\u001b[0mshebang\u001b[0m\u001b[0;34m(\u001b[0m\u001b[0mline\u001b[0m\u001b[0;34m,\u001b[0m \u001b[0mcell\u001b[0m\u001b[0;34m)\u001b[0m\u001b[0;34m\u001b[0m\u001b[0;34m\u001b[0m\u001b[0m\n\u001b[0m\u001b[1;32m    143\u001b[0m \u001b[0;34m\u001b[0m\u001b[0m\n\u001b[1;32m    144\u001b[0m         \u001b[0;31m# write a basic docstring:\u001b[0m\u001b[0;34m\u001b[0m\u001b[0;34m\u001b[0m\u001b[0;34m\u001b[0m\u001b[0m\n",
      "\u001b[0;32m</opt/conda/lib/python3.7/site-packages/decorator.py:decorator-gen-110>\u001b[0m in \u001b[0;36mshebang\u001b[0;34m(self, line, cell)\u001b[0m\n",
      "\u001b[0;32m/opt/conda/lib/python3.7/site-packages/IPython/core/magic.py\u001b[0m in \u001b[0;36m<lambda>\u001b[0;34m(f, *a, **k)\u001b[0m\n\u001b[1;32m    185\u001b[0m     \u001b[0;31m# but it's overkill for just that one bit of state.\u001b[0m\u001b[0;34m\u001b[0m\u001b[0;34m\u001b[0m\u001b[0;34m\u001b[0m\u001b[0m\n\u001b[1;32m    186\u001b[0m     \u001b[0;32mdef\u001b[0m \u001b[0mmagic_deco\u001b[0m\u001b[0;34m(\u001b[0m\u001b[0marg\u001b[0m\u001b[0;34m)\u001b[0m\u001b[0;34m:\u001b[0m\u001b[0;34m\u001b[0m\u001b[0;34m\u001b[0m\u001b[0m\n\u001b[0;32m--> 187\u001b[0;31m         \u001b[0mcall\u001b[0m \u001b[0;34m=\u001b[0m \u001b[0;32mlambda\u001b[0m \u001b[0mf\u001b[0m\u001b[0;34m,\u001b[0m \u001b[0;34m*\u001b[0m\u001b[0ma\u001b[0m\u001b[0;34m,\u001b[0m \u001b[0;34m**\u001b[0m\u001b[0mk\u001b[0m\u001b[0;34m:\u001b[0m \u001b[0mf\u001b[0m\u001b[0;34m(\u001b[0m\u001b[0;34m*\u001b[0m\u001b[0ma\u001b[0m\u001b[0;34m,\u001b[0m \u001b[0;34m**\u001b[0m\u001b[0mk\u001b[0m\u001b[0;34m)\u001b[0m\u001b[0;34m\u001b[0m\u001b[0;34m\u001b[0m\u001b[0m\n\u001b[0m\u001b[1;32m    188\u001b[0m \u001b[0;34m\u001b[0m\u001b[0m\n\u001b[1;32m    189\u001b[0m         \u001b[0;32mif\u001b[0m \u001b[0mcallable\u001b[0m\u001b[0;34m(\u001b[0m\u001b[0marg\u001b[0m\u001b[0;34m)\u001b[0m\u001b[0;34m:\u001b[0m\u001b[0;34m\u001b[0m\u001b[0;34m\u001b[0m\u001b[0m\n",
      "\u001b[0;32m/opt/conda/lib/python3.7/site-packages/IPython/core/magics/script.py\u001b[0m in \u001b[0;36mshebang\u001b[0;34m(self, line, cell)\u001b[0m\n\u001b[1;32m    243\u001b[0m             \u001b[0msys\u001b[0m\u001b[0;34m.\u001b[0m\u001b[0mstderr\u001b[0m\u001b[0;34m.\u001b[0m\u001b[0mflush\u001b[0m\u001b[0;34m(\u001b[0m\u001b[0;34m)\u001b[0m\u001b[0;34m\u001b[0m\u001b[0;34m\u001b[0m\u001b[0m\n\u001b[1;32m    244\u001b[0m         \u001b[0;32mif\u001b[0m \u001b[0margs\u001b[0m\u001b[0;34m.\u001b[0m\u001b[0mraise_error\u001b[0m \u001b[0;32mand\u001b[0m \u001b[0mp\u001b[0m\u001b[0;34m.\u001b[0m\u001b[0mreturncode\u001b[0m\u001b[0;34m!=\u001b[0m\u001b[0;36m0\u001b[0m\u001b[0;34m:\u001b[0m\u001b[0;34m\u001b[0m\u001b[0;34m\u001b[0m\u001b[0m\n\u001b[0;32m--> 245\u001b[0;31m             \u001b[0;32mraise\u001b[0m \u001b[0mCalledProcessError\u001b[0m\u001b[0;34m(\u001b[0m\u001b[0mp\u001b[0m\u001b[0;34m.\u001b[0m\u001b[0mreturncode\u001b[0m\u001b[0;34m,\u001b[0m \u001b[0mcell\u001b[0m\u001b[0;34m,\u001b[0m \u001b[0moutput\u001b[0m\u001b[0;34m=\u001b[0m\u001b[0mout\u001b[0m\u001b[0;34m,\u001b[0m \u001b[0mstderr\u001b[0m\u001b[0;34m=\u001b[0m\u001b[0merr\u001b[0m\u001b[0;34m)\u001b[0m\u001b[0;34m\u001b[0m\u001b[0;34m\u001b[0m\u001b[0m\n\u001b[0m\u001b[1;32m    246\u001b[0m \u001b[0;34m\u001b[0m\u001b[0m\n\u001b[1;32m    247\u001b[0m     \u001b[0;32mdef\u001b[0m \u001b[0m_run_script\u001b[0m\u001b[0;34m(\u001b[0m\u001b[0mself\u001b[0m\u001b[0;34m,\u001b[0m \u001b[0mp\u001b[0m\u001b[0;34m,\u001b[0m \u001b[0mcell\u001b[0m\u001b[0;34m,\u001b[0m \u001b[0mto_close\u001b[0m\u001b[0;34m)\u001b[0m\u001b[0;34m:\u001b[0m\u001b[0;34m\u001b[0m\u001b[0;34m\u001b[0m\u001b[0m\n",
      "\u001b[0;31mCalledProcessError\u001b[0m: Command 'b'aws s3 cp ./Input/ s3://$1/input/ --recursive\\n'' returned non-zero exit status 255."
     ]
    }
   ],
   "source": [
    "%%bash -s \"$BUCKET\"\n",
    "aws s3 cp ./Input/ s3://$1/input/ --recursive"
   ]
  },
  {
   "cell_type": "code",
   "execution_count": 94,
   "metadata": {},
   "outputs": [
    {
     "name": "stdout",
     "output_type": "stream",
     "text": [
      "2022-02-07 11:53:07   29486628 L'intervista a Francesco Starace amministratore delegato di Enel.mp4\n",
      "2022-02-07 11:53:07   11422574 Nascita e crescita di Enel - Enel Frammenti di storia.mp4\n"
     ]
    }
   ],
   "source": [
    "%%bash -s \"$BUCKET\"\n",
    "aws s3 ls s3://$1/input/"
   ]
  },
  {
   "cell_type": "code",
   "execution_count": 95,
   "metadata": {},
   "outputs": [],
   "source": [
    "%%capture cap_out --no-stderr\n",
    "%%bash -s \"$BUCKET\"\n",
    "aws s3 ls s3://$1/input/ --recursive"
   ]
  },
  {
   "cell_type": "markdown",
   "metadata": {},
   "source": [
    "The following cell will define the variable `all_videos`. This will determine the number of videos that you will use. "
   ]
  },
  {
   "cell_type": "code",
   "execution_count": 96,
   "metadata": {},
   "outputs": [
    {
     "data": {
      "text/plain": [
       "[\"L'intervista a Francesco Starace amministratore delegato di Enel.mp4\",\n",
       " 'Nascita e crescita di Enel - Enel Frammenti di storia.mp4']"
      ]
     },
     "execution_count": 96,
     "metadata": {},
     "output_type": "execute_result"
    }
   ],
   "source": [
    "VIDEOS = cap_out.stdout\n",
    "all_videos = re.findall(\"input/.*\",VIDEOS)\n",
    "for i in range(len(all_videos)):\n",
    "    all_videos[i] = all_videos[i].split('input/')[-1]\n",
    "all_videos"
   ]
  },
  {
   "cell_type": "code",
   "execution_count": 97,
   "metadata": {},
   "outputs": [
    {
     "data": {
      "text/plain": [
       "2"
      ]
     },
     "execution_count": 97,
     "metadata": {},
     "output_type": "execute_result"
    }
   ],
   "source": [
    "num_videos = len(all_videos)\n",
    "num_videos"
   ]
  },
  {
   "cell_type": "code",
   "execution_count": 98,
   "metadata": {},
   "outputs": [
    {
     "data": {
      "text/plain": [
       "['AWS-Cris-vid-0-11.53.34', 'AWS-Cris-vid-1-11.53.34']"
      ]
     },
     "execution_count": 98,
     "metadata": {},
     "output_type": "execute_result"
    }
   ],
   "source": [
    "# You can give each transcription job any name. We attach a timestamp to each job name here\n",
    "# to prevent conflicting job names in case we need to re-run any jobs.\n",
    "now = datetime.now()\n",
    "time_now = now.strftime(\"%H.%M.%S\")\n",
    "\n",
    "# Path to folder\n",
    "folder_path = f\"s3://{BUCKET}/input/\"\n",
    "\n",
    "job_names = []\n",
    "for i in range(num_videos):\n",
    "    job_names.append(\"AWS-Cris-vid-\" + str(i) + \"-\" + str(time_now))\n",
    "\n",
    "job_names"
   ]
  },
  {
   "cell_type": "markdown",
   "metadata": {},
   "source": [
    "### The trascribe function will use as input : \n",
    "- job_name = the name of the transcribe job\n",
    "- job_uri = the URI of the job \n",
    "- path of output \n",
    "- the format or your videos \n",
    "- the vocabolary "
   ]
  },
  {
   "cell_type": "code",
   "execution_count": 99,
   "metadata": {},
   "outputs": [],
   "source": [
    "# Here is a transcribe function\n",
    "def transcribe(job_name, job_uri, out_bucket, format=\"mp4\", vocab_name=None):\n",
    "    \"\"\"Transcribe a .wav or .mp4 file to text.\n",
    "    Args:\n",
    "        job_name (str): the name of the job that you specify;\n",
    "                        the output json will be job_name.json\n",
    "        job_uri (str): input path (in s3) to the file being transcribed\n",
    "        out_bucket (str): s3 bucket name that you want the output json\n",
    "                          to be placed in\n",
    "        format (str): mp4 or wav for input file format;\n",
    "                      defaults to mp4\n",
    "        vocab_name (str): name of custom vocabulary used;\n",
    "                          optional, defaults to None\n",
    "    \"\"\"\n",
    "    \n",
    "# LanguageCode is set to it-IT, change to en-US for english or refer to https://docs.aws.amazon.com/transcribe/latest/dg/supported-languages.html for other languages\n",
    "\n",
    "    if format not in ['mp3','mp4','wav','flac']:\n",
    "        print(\"Invalid format\")\n",
    "        return\n",
    "\n",
    "    try:\n",
    "        print(\"------\" + format)\n",
    "        if vocab_name is None:\n",
    "            transcribe_client.start_transcription_job(\n",
    "                TranscriptionJobName=job_name,\n",
    "                Media={\"MediaFileUri\": job_uri},\n",
    "                MediaFormat=format,\n",
    "                LanguageCode=\"it-IT\",\n",
    "                OutputBucketName=out_bucket,\n",
    "            )\n",
    "        else:\n",
    "            transcribe_client.start_transcription_job(\n",
    "                TranscriptionJobName=job_name,\n",
    "                Media={\"MediaFileUri\": job_uri},\n",
    "                MediaFormat=format,\n",
    "                LanguageCode=\"it-IT\",\n",
    "                OutputBucketName=out_bucket,\n",
    "                Settings={'VocabularyName': vocab_name}\n",
    "            )\n",
    "        \n",
    "        time.sleep(2)\n",
    "        \n",
    "        print(transcribe_client.get_transcription_job(TranscriptionJobName=job_name))\n",
    "\n",
    "    except Exception as e:\n",
    "        print(e)"
   ]
  },
  {
   "cell_type": "markdown",
   "metadata": {},
   "source": [
    "### This cycle with lanch the transcribe job for each video. Add transcribe:* to Sagemaker execution role"
   ]
  },
  {
   "cell_type": "code",
   "execution_count": 100,
   "metadata": {},
   "outputs": [
    {
     "name": "stdout",
     "output_type": "stream",
     "text": [
      "------mp4\n",
      "{'TranscriptionJob': {'TranscriptionJobName': 'AWS-Cris-vid-0-11.53.34', 'TranscriptionJobStatus': 'IN_PROGRESS', 'LanguageCode': 'it-IT', 'MediaSampleRateHertz': 44100, 'MediaFormat': 'mp4', 'Media': {'MediaFileUri': \"s3://cris-transcribe-accessibility/input/L'intervista a Francesco Starace amministratore delegato di Enel.mp4\"}, 'Transcript': {}, 'StartTime': datetime.datetime(2022, 2, 7, 11, 55, 45, 866000, tzinfo=tzlocal()), 'CreationTime': datetime.datetime(2022, 2, 7, 11, 55, 45, 841000, tzinfo=tzlocal()), 'Settings': {'ChannelIdentification': False, 'ShowAlternatives': False}}, 'ResponseMetadata': {'RequestId': '4326854a-d607-41e4-96a4-a8757cc30b31', 'HTTPStatusCode': 200, 'HTTPHeaders': {'content-type': 'application/x-amz-json-1.1', 'date': 'Mon, 07 Feb 2022 11:55:47 GMT', 'x-amzn-requestid': '4326854a-d607-41e4-96a4-a8757cc30b31', 'content-length': '464', 'connection': 'keep-alive'}, 'RetryAttempts': 0}}\n",
      "------mp4\n",
      "{'TranscriptionJob': {'TranscriptionJobName': 'AWS-Cris-vid-1-11.53.34', 'TranscriptionJobStatus': 'IN_PROGRESS', 'LanguageCode': 'it-IT', 'MediaSampleRateHertz': 44100, 'MediaFormat': 'mp4', 'Media': {'MediaFileUri': 's3://cris-transcribe-accessibility/input/Nascita e crescita di Enel - Enel Frammenti di storia.mp4'}, 'Transcript': {}, 'StartTime': datetime.datetime(2022, 2, 7, 11, 55, 48, 117000, tzinfo=tzlocal()), 'CreationTime': datetime.datetime(2022, 2, 7, 11, 55, 48, 95000, tzinfo=tzlocal()), 'Settings': {'ChannelIdentification': False, 'ShowAlternatives': False}}, 'ResponseMetadata': {'RequestId': '10a94db6-db7c-4732-b1db-f89195e1eaa2', 'HTTPStatusCode': 200, 'HTTPHeaders': {'content-type': 'application/x-amz-json-1.1', 'date': 'Mon, 07 Feb 2022 11:55:50 GMT', 'x-amzn-requestid': '10a94db6-db7c-4732-b1db-f89195e1eaa2', 'content-length': '453', 'connection': 'keep-alive'}, 'RetryAttempts': 0}}\n"
     ]
    }
   ],
   "source": [
    "## Start a transcription job\n",
    "for i in range(len(job_names)):\n",
    "    transcribe(job_names[i], folder_path+all_videos[i], BUCKET)"
   ]
  },
  {
   "cell_type": "code",
   "execution_count": null,
   "metadata": {},
   "outputs": [],
   "source": []
  },
  {
   "cell_type": "markdown",
   "metadata": {},
   "source": [
    "### Check transcription job statuses\n",
    "\n",
    "Wait until the status displays `COMPLETED` before moving on to the next cells. "
   ]
  },
  {
   "cell_type": "code",
   "execution_count": 101,
   "metadata": {},
   "outputs": [
    {
     "name": "stdout",
     "output_type": "stream",
     "text": [
      "COMPLETED\n"
     ]
    }
   ],
   "source": [
    "# Wait for the status of the transcription job to finish\n",
    "while True:\n",
    "    response = transcribe_client.get_transcription_job(\n",
    "        TranscriptionJobName=job_names[0] # You can change this job index if you have more jobs\n",
    "    )\n",
    "    status = response['TranscriptionJob']['TranscriptionJobStatus']\n",
    "    if status in ['COMPLETED', 'FAILED']:\n",
    "        print(status)\n",
    "        break\n",
    "    print(\"Not ready yet...\")\n",
    "    time.sleep(5)"
   ]
  },
  {
   "cell_type": "markdown",
   "metadata": {},
   "source": [
    "### Retrieve and Parse Transcription Results\n",
    "\n",
    "When the transcription job finishes, the results will be stored in your specified S3 bucket as an output JSON file called “YOUR_JOB_NAME.json.” You can use the following function to retrieve your results, and parse them into sentences with time stamps, confidence scores, and other useful representations."
   ]
  },
  {
   "cell_type": "code",
   "execution_count": 102,
   "metadata": {},
   "outputs": [],
   "source": [
    "def get_transcript_text_and_timestamps(bucket_name, file_name):\n",
    "    \"\"\"take json file from S3 bucket and returns a tuple of:\n",
    "       entire transcript, list object of tuples of timestamp and individual sentences\n",
    "    \n",
    "    Args:\n",
    "        bucket_name (str): name of s3 bucket\n",
    "        file_name (str): name of file\n",
    "    Returns:\n",
    "        (\n",
    "        entire_transcript: str,\n",
    "        sentences_and_times: [ {start_time (sec) : float,\n",
    "                                end_time (sec)   : float,\n",
    "                                sentence         : str,\n",
    "                                min_confidence   : float (minimum confidence score of that sentence)\n",
    "                                } ],\n",
    "        confidences:  [ {start_time (sec) : float,\n",
    "                         end_time (sec)   : float,\n",
    "                         content          : str, (single word/phrase)\n",
    "                         confidence       : float (confidence score of the word/phrase)\n",
    "                         } ],\n",
    "        scores: list of confidence scores\n",
    "        )\n",
    "    \"\"\"\n",
    "    s3_clientobj = s3.get_object(Bucket=bucket_name, Key=file_name)\n",
    "    s3_clientdata = s3_clientobj[\"Body\"].read().decode(\"utf-8\")\n",
    "\n",
    "    original = json.loads(s3_clientdata)\n",
    "    items = original[\"results\"][\"items\"]\n",
    "    entire_transcript = original[\"results\"][\"transcripts\"]\n",
    "\n",
    "    sentences_and_times = []\n",
    "    temp_sentence = \"\"\n",
    "    temp_start_time = 0\n",
    "    temp_min_confidence = 1.0\n",
    "    newSentence = True\n",
    "    \n",
    "    confidences = []\n",
    "    scores = []\n",
    "\n",
    "    i = 0\n",
    "    for item in items:\n",
    "        # always add the word\n",
    "        if item[\"type\"] == \"punctuation\":\n",
    "            temp_sentence = (\n",
    "                temp_sentence.strip() + item[\"alternatives\"][0][\"content\"] + \" \"\n",
    "            )\n",
    "        else:\n",
    "            temp_sentence = temp_sentence + item[\"alternatives\"][0][\"content\"] + \" \"\n",
    "            temp_min_confidence = min(temp_min_confidence,\n",
    "                                      float(item[\"alternatives\"][0][\"confidence\"]))\n",
    "            confidences.append({\"start_time\": float(item[\"start_time\"]),\n",
    "                                \"end_time\": float(item[\"end_time\"]),\n",
    "                                \"content\": item[\"alternatives\"][0][\"content\"],\n",
    "                                \"confidence\": float(item[\"alternatives\"][0][\"confidence\"])\n",
    "                               })\n",
    "            scores.append(float(item[\"alternatives\"][0][\"confidence\"]))\n",
    "\n",
    "        # if this is a new sentence, and it starts with a word, save the time\n",
    "        if newSentence == True:\n",
    "            if item[\"type\"] == \"pronunciation\":\n",
    "                temp_start_time = float(item[\"start_time\"])\n",
    "            newSentence = False\n",
    "        # else, keep going until you hit a punctuation\n",
    "        else:\n",
    "            if (\n",
    "                item[\"type\"] == \"punctuation\"\n",
    "                and item[\"alternatives\"][0][\"content\"] != \",\"\n",
    "            ):\n",
    "                # end time of sentence is end_time of previous word\n",
    "                end_time = items[i-1][\"end_time\"] if i-1 >= 0 else items[0][\"end_time\"]\n",
    "                sentences_and_times.append(\n",
    "                    {\"start_time\": temp_start_time,\n",
    "                     \"end_time\": end_time,\n",
    "                     \"sentence\": temp_sentence.strip(),\n",
    "                     \"min_confidence\": temp_min_confidence\n",
    "                    }\n",
    "                )\n",
    "                # reset the temp sentence and relevant variables\n",
    "                newSentence = True\n",
    "                temp_sentence = \"\"\n",
    "                temp_min_confidence = 1.0\n",
    "                \n",
    "        i = i + 1\n",
    "        \n",
    "    sentences_and_times.append(\n",
    "                    {\"start_time\": temp_start_time,\n",
    "                     \"end_time\": confidences[-1][\"end_time\"],\n",
    "                     \"sentence\": temp_sentence.strip(),\n",
    "                     \"min_confidence\": temp_min_confidence\n",
    "                    }\n",
    "                )\n",
    "    return entire_transcript, sentences_and_times, confidences, scores"
   ]
  },
  {
   "cell_type": "markdown",
   "metadata": {},
   "source": [
    "Let's parse each video and store the results. Note that there may be a slight time delay before the JSON files are available in your S3 bucket. If the following cell fails, please wait 5 seconds and try rerunning it."
   ]
  },
  {
   "cell_type": "code",
   "execution_count": 103,
   "metadata": {},
   "outputs": [
    {
     "name": "stdout",
     "output_type": "stream",
     "text": [
      "0: Parsing AWS-Cris-vid-0-11.53.34.json\n",
      "1: Parsing AWS-Cris-vid-1-11.53.34.json\n"
     ]
    }
   ],
   "source": [
    "all_entire_transcript = []\n",
    "all_sentences_and_times = []\n",
    "all_confidences = []\n",
    "all_scores = []\n",
    "for i in range(num_videos):\n",
    "    print(f\"{i}: Parsing {job_names[i]}.json\")\n",
    "    entire_transcript_1, sentences_and_times_1, confidences_1, scores_1 = get_transcript_text_and_timestamps(BUCKET,job_names[i]+\".json\")\n",
    "    all_entire_transcript.append(entire_transcript_1)\n",
    "    all_sentences_and_times.append(sentences_and_times_1)\n",
    "    all_confidences.append(confidences_1)\n",
    "    all_scores.append(scores_1)"
   ]
  },
  {
   "cell_type": "markdown",
   "metadata": {},
   "source": [
    "### Check the result "
   ]
  },
  {
   "cell_type": "code",
   "execution_count": 104,
   "metadata": {},
   "outputs": [
    {
     "name": "stdout",
     "output_type": "stream",
     "text": [
      "0: {'start_time': 0.04, 'end_time': '3.2', 'sentence': \"dice che l'amministratore delegato dell'enel Benvenuto.\", 'min_confidence': 0.4177}\n",
      "\n",
      "1: {'start_time': 13.58, 'end_time': '23.98', 'sentence': 'la camera ha approvato la legge che nazionalizza energia elettrica da secoli.', 'min_confidence': 0.6367}\n",
      "\n"
     ]
    }
   ],
   "source": [
    "# Sanity check -- the first word transcribed should be \"Hi.\" and corresponding printed output should look something like:\n",
    "# \"0: {'start_time': 0.54, 'end_time': '1.03', 'sentence': 'Hi.', 'min_confidence': 1.0}\"\n",
    "for i in range(num_videos):\n",
    "    print(f\"{i}: {all_sentences_and_times[i][0]}\\n\")"
   ]
  },
  {
   "cell_type": "markdown",
   "metadata": {},
   "source": [
    "### Save the original transcripts to txt files\n",
    "Let's save the full transcripts, as we'll be using this later for comparisons."
   ]
  },
  {
   "cell_type": "code",
   "execution_count": 105,
   "metadata": {},
   "outputs": [],
   "source": [
    "i = 1\n",
    "for sentences_times in all_sentences_and_times:\n",
    "    file0 = open(f\"original_transcript_\"+str(uuid.uuid4())+\".json\",\"w\") \n",
    "    for tup in sentences_times:\n",
    "        file0.write(tup['sentence'] + \"\\n\") \n",
    "    file0.close()\n",
    "    i = i + 1"
   ]
  },
  {
   "cell_type": "code",
   "execution_count": 106,
   "metadata": {},
   "outputs": [
    {
     "name": "stdout",
     "output_type": "stream",
     "text": [
      "upload: transcript_text_files/original_transcript_3d233e1d-1c63-4d7a-b3e7-0b7b22d6f6d3.json to s3://cris-transcribe-accessibility/transcribe-results/original_transcript_3d233e1d-1c63-4d7a-b3e7-0b7b22d6f6d3.json\n",
      "upload: transcript_text_files/original_transcript_5301e39f-8695-40d4-8a77-a48d5186bedd.json to s3://cris-transcribe-accessibility/transcribe-results/original_transcript_5301e39f-8695-40d4-8a77-a48d5186bedd.json\n",
      "upload: transcript_text_files/original_transcript_c4a47dc9-a610-436b-a952-bcb8a02cfcc6.json to s3://cris-transcribe-accessibility/transcribe-results/original_transcript_c4a47dc9-a610-436b-a952-bcb8a02cfcc6.json\n",
      "upload: transcript_text_files/original_transcript_67036ed2-6c50-4e8b-a1aa-aa8fa0728d09.json to s3://cris-transcribe-accessibility/transcribe-results/original_transcript_67036ed2-6c50-4e8b-a1aa-aa8fa0728d09.json\n"
     ]
    }
   ],
   "source": [
    "%%bash -s \"$BUCKET\"\n",
    "rm -rf transcript_text_files\n",
    "mkdir transcript_text_files\n",
    "cp original_transcript_*.json transcript_text_files/\n",
    "aws s3 cp ./transcript_text_files s3://$1/transcribe-results/ --recursive"
   ]
  },
  {
   "cell_type": "code",
   "execution_count": 107,
   "metadata": {},
   "outputs": [],
   "source": [
    "i = 1\n",
    "for sentences_times in all_sentences_and_times:\n",
    "    file0 = open(f\"original_transcript_\"+str(uuid.uuid4())+\".txt\",\"w\") \n",
    "    for tup in sentences_times:\n",
    "        file0.write(tup['sentence'] + \"\\n\") \n",
    "    file0.close()\n",
    "    i = i + 1"
   ]
  },
  {
   "cell_type": "code",
   "execution_count": 108,
   "metadata": {
    "scrolled": true
   },
   "outputs": [
    {
     "name": "stdout",
     "output_type": "stream",
     "text": [
      "upload: transcript_text_files/original_transcript_68bc735f-5366-4f74-96db-ba287290e519.txt to s3://cris-transcribe-accessibility/transcribe-results/original_transcript_68bc735f-5366-4f74-96db-ba287290e519.txt\n",
      "upload: transcript_text_files/original_transcript_6b4d1eea-c046-467d-8c46-3ec7a82782e5.txt to s3://cris-transcribe-accessibility/transcribe-results/original_transcript_6b4d1eea-c046-467d-8c46-3ec7a82782e5.txt\n",
      "upload: transcript_text_files/original_transcript_eb757059-0f3f-4458-82bb-eb3a368c39ff.txt to s3://cris-transcribe-accessibility/transcribe-results/original_transcript_eb757059-0f3f-4458-82bb-eb3a368c39ff.txt\n",
      "upload: transcript_text_files/original_transcript_71ce7539-8d6d-42ad-92b4-e0cefc4046fc.txt to s3://cris-transcribe-accessibility/transcribe-results/original_transcript_71ce7539-8d6d-42ad-92b4-e0cefc4046fc.txt\n"
     ]
    }
   ],
   "source": [
    "%%bash -s \"$BUCKET\"\n",
    "rm -rf transcript_text_files\n",
    "mkdir transcript_text_files\n",
    "cp original_transcript_*.txt transcript_text_files/\n",
    "aws s3 cp ./transcript_text_files s3://$1/transcribe-results/ --recursive"
   ]
  },
  {
   "cell_type": "markdown",
   "metadata": {},
   "source": [
    "### Histogram of confidence scores\n",
    "Let’s take a look at the distribution of confidence scores. A majority of words in the video were transcribe with a confidence score greater than .90. You may have to run the following cell twice to see the plot."
   ]
  },
  {
   "cell_type": "code",
   "execution_count": 109,
   "metadata": {},
   "outputs": [
    {
     "data": {
      "image/png": "[encoded data removed]",
      "text/plain": [
       "<Figure size 432x288 with 1 Axes>"
      ]
     },
     "metadata": {},
     "output_type": "display_data"
    }
   ],
   "source": [
    "from matplotlib import pyplot as plt\n",
    "plt.style.use('ggplot')\n",
    "\n",
    "flat_scores_list = [j for sub in all_scores for j in sub] \n",
    "\n",
    "plt.xlim([min(flat_scores_list)-0.1, max(flat_scores_list)+0.1])\n",
    "plt.hist(flat_scores_list, bins=20, alpha=0.5)\n",
    "plt.title('Distribution of confidence scores')\n",
    "plt.xlabel('Confidence score')\n",
    "plt.ylabel('Frequency')\n",
    "\n",
    "plt.show()\n",
    "# If you don't see a plot initially, you may need to rerun this cell."
   ]
  },
  {
   "cell_type": "markdown",
   "metadata": {},
   "source": [
    "### Histogram of low confidence scores\n",
    "Let’s filter out the high confidence scores to take a closer look at the lower ones. You can experiment with different thresholds to see how many words fall below that threshold.\n",
    "\n"
   ]
  },
  {
   "cell_type": "code",
   "execution_count": 111,
   "metadata": {},
   "outputs": [
    {
     "name": "stdout",
     "output_type": "stream",
     "text": [
      "There are 134 words that have confidence score less than 0.8\n"
     ]
    }
   ],
   "source": [
    "THRESHOLD = 0.80\n",
    "\n",
    "# Filter scores that are less than THRESHOLD\n",
    "all_bad_scores = [i for i in flat_scores_list if i < THRESHOLD]\n",
    "print(f\"There are {len(all_bad_scores)} words that have confidence score less than {THRESHOLD}\")"
   ]
  },
  {
   "cell_type": "code",
   "execution_count": 112,
   "metadata": {},
   "outputs": [
    {
     "data": {
      "image/png": "[encoded data removed]",
      "text/plain": [
       "<Figure size 432x288 with 1 Axes>"
      ]
     },
     "metadata": {},
     "output_type": "display_data"
    }
   ],
   "source": [
    "plt.xlim([min(all_bad_scores)-0.1, max(all_bad_scores)+0.1])\n",
    "plt.hist(all_bad_scores, bins=20, alpha=0.5)\n",
    "plt.title(f'Distribution of confidence scores less than {THRESHOLD}')\n",
    "plt.xlabel('Confidence score')\n",
    "plt.ylabel('Frequency')\n",
    "\n",
    "plt.show()"
   ]
  },
  {
   "cell_type": "markdown",
   "metadata": {},
   "source": [
    "We can see that there is a nontrivial number of words classified with low confidence. As we’ll see later, technical terms are more often mis-transcribed, so it’s important that we correct those mistakes."
   ]
  },
  {
   "cell_type": "markdown",
   "metadata": {},
   "source": [
    "## Step 2: Create human review workflows with A2I\n",
    "\n",
    "Our next step is create a human review workflow that sends low confidence scores to human reviewers and then retrieves the corrected transcription they provide. This section contains the following steps:\n",
    "\n",
    "1. Create a work task template that will be displayed to workers for every task. The template will be rendered with input data you provide, instructions to workers, and interactive tools to help workers complete your tasks.\n",
    "2. Create a human review workflow, also called a flow definition. You use the flow definition to configure details about your human workforce and the human tasks they are assigned.\n",
    "3. Create a human loop to start the human review workflow, sending data for human review as needed. In this example, you use a custom task type and start human loop tasks using the [Amazon A2I Runtime API](https://docs.aws.amazon.com/augmented-ai/2019-11-07/APIReference/Welcome.html). Each time `StartHumanLoop` is called, a task is sent to human reviewers."
   ]
  },
  {
   "cell_type": "markdown",
   "metadata": {},
   "source": [
    "## Create a Private Work Team \n",
    "\n",
    "\n",
    "A workforce is the group of workers that you have selected to label your dataset. You can choose either the Amazon Mechanical Turk workforce, a vendor-managed workforce, or you can create your own private workforce for human reviews. Whichever workforce type you choose, Amazon Augmented AI takes care of sending tasks to workers.\n",
    "\n",
    "You can create a private workforce and add employeew to the work team. This will allow to send the A2I human review tasks to the team so  they can preview the worker UI and complete this demo. \n",
    "\n",
    "To create and manage your private workforce, you can use the Labeling workforces page in the Amazon SageMaker console. When following the instructions below, you will have the option to create a private workforce by entering worker emails or importing a pre-existing workforce from an Amazon Cognito user pool. To import a workforce, see Create a Private Workforce (Amazon Cognito Console). \n",
    "\n",
    "### To add yourself to an existing private workforce\n",
    "\n",
    "If you have already created a private workforce in the same AWS Region as this notebook instance, [add yourself to a private team](https://docs.aws.amazon.com/sagemaker/latest/dg/sms-workforce-management-private-console.html#add-remove-workers-sm) and copy and paste that work team ARN to set `WORKTEAM_ARN`.\n",
    "\n",
    "Once you add yourself to the private workteam, you will recieve an email notifying you that you've been invited to the work team. Use the link in that email to reset your password and sign in to the worker portal. The worker portal is where the A2I human review tasks that you create in the following cells will appear. \n",
    "\n",
    "### To create a private workforce using worker emails:\n",
    "\n",
    "You can create a private work team in the Amazon SageMaker console (approximately 15 minutes). \n",
    "\n",
    "* Open the **Labeling workforces page** page in the Amazon SageMaker console: https://console.aws.amazon.com/sagemaker/groundtruth#/labeling-workforces.\n",
    "\n",
    "\n",
    "* If this notebook instance is not in N. Virginia (us-east-1), [change your AWS Region](https://docs.aws.amazon.com/awsconsolehelpdocs/latest/gsg/getting-started.html#select-region) to the same region that this notebook instance is in. \n",
    "\n",
    "\n",
    "* In the navigation pane, choose **Labeling workforces**.\n",
    "\n",
    "\n",
    "* Choose **Private**, then choose **Create private team**.\n",
    "\n",
    "\n",
    "* Choose **Invite new workers by email**.\n",
    "\n",
    "\n",
    "* Add your email address and any others that you want to recieve the A2I human review tasks created in this demo. \n",
    "    * You will recieve an email notifying you that you've been invited to the work team. Use the link in that email to reset your password and sign in to the worker portal. The worker portal is where the A2I human review tasks that you create in the following cells will appear. \n",
    "\n",
    "\n",
    "* Enter an organization name and contact email.\n",
    "\n",
    "\n",
    "* (Optionally) choose an SNS topic to subscribe the team to so workers are notified by email when new Ground Truth labeling jobs become available.\n",
    "\n",
    "\n",
    "* Click the Create private team button.\n",
    "\n",
    "After you import your private workforce, refresh the page. On the Private workforce summary page, you'll see your work team ARN. Enter this ARN in the following cell to set `WORKTEAM_ARN`."
   ]
  },
  {
   "cell_type": "code",
   "execution_count": 113,
   "metadata": {},
   "outputs": [],
   "source": [
    "WORKTEAM_ARN= \"arn:aws:sagemaker:eu-central-1:733414849973:workteam/private-crowd/CrisTeam\""
   ]
  },
  {
   "cell_type": "markdown",
   "metadata": {},
   "source": [
    "## Create Resources for an A2I Human Review\n",
    "Now let's create the resources we'll need to build our human review workflow."
   ]
  },
  {
   "cell_type": "markdown",
   "metadata": {},
   "source": [
    "### Create Human Task UI\n",
    "\n",
    "Amazon A2I uses Liquid, an open-source template language that can be used to “inject” data dynamically into HTML files.\n",
    "\n",
    "In this walkthrough, we want for each task to enable a human reviewer to watch a section of the video and transcribe the speech they hear. The HTML template consists of three main parts:\n",
    "\n",
    "1. A video player with a replay button that only allows the reviewer to play the specific subsection\n",
    "2. A form for the reviewer to type and submit what they hear\n",
    "3. Logic written in JavaScript to give the replay button its intended functionality\n",
    "\n",
    "For over 60 other pre-built UIs, check out this [repository](https://github.com/aws-samples/amazon-a2i-sample-task-uis).\n",
    "\n",
    "Here’s the template you’ll be using (skip ahead to the \"Wait For Workers to Complete Task\" section to preview what this template looks like):\n"
   ]
  },
  {
   "cell_type": "code",
   "execution_count": 114,
   "metadata": {},
   "outputs": [],
   "source": [
    "template = r\"\"\"\n",
    "<head>\n",
    "    <style>\n",
    "        h1 {\n",
    "            color: black;\n",
    "            font-family: verdana;\n",
    "            font-size: 150%;\n",
    "        }\n",
    "    </style>\n",
    "</head>\n",
    "<script src=\"https://assets.crowd.aws/crowd-html-elements.js\"></script>\n",
    "\n",
    "<crowd-form>\n",
    "    <video id=\"this_vid\">\n",
    "        <source src=\"{{ task.input.filePath | grant_read_access }}\"\n",
    "            type=\"audio/mp4\">\n",
    "        Your browser does not support the audio element.\n",
    "    </video>\n",
    "    <br />\n",
    "    <br />\n",
    "    <crowd-button onclick=\"onClick(); return false;\"><h1> Click to play video section!</h1></crowd-button>\n",
    "    <br />\n",
    "    Video title: <strong>{{ task.input.video_title }}</strong>\n",
    "    <br />\n",
    "\n",
    "    <h3>Instructions</h3>\n",
    "    <p>Transcribe the audio clip </p>\n",
    "    <p>The original transcript is <strong>\"{{ task.input.original_words }}\"</strong>.\n",
    "    If the text matches the audio, you can copy and paste the same transcription.</p>\n",
    "    <p>Ignore \"umms\", \"hmms\", \"uhs\" and other non-textual phrases.\n",
    "    If a word is cut off in the beginning or end of the video clip, you do NOT need to transcribe that word.\n",
    "    You also do NOT need to transcribe punctuation at the end of clauses or sentences.\n",
    "    However, apostrophes and punctuation used in technical terms should still be included, such as \"Denny's\" or \"file_name.txt\"</p>\n",
    "    <p><strong>Important:</strong> If you encounter a technical term that has multiple words,\n",
    "    please <strong>hyphenate</strong> those words together. For example, \"k nearest neighbors\" should be transcribed as \"k-nearest-neighbors.\"</p>\n",
    "    <p>Click the space below to start typing.</p>\n",
    "    <crowd-text-area name=\"transcription\" rows=\"2\" label=\"Your transcription\" placeholder=\"Please enter the transcribed text.\"></crowd-text-area>\n",
    "\n",
    "    <full-instructions header=\"Transcription Instructions\">\n",
    "        <h2>Instructions</h2>\n",
    "        <p>Click the play button and listen carefully to the audio clip. Type what you hear in the box\n",
    "            below. Replay the clip by clicking the button again, as many times as needed.</p>\n",
    "    </full-instructions>\n",
    "\n",
    "</crowd-form>\n",
    "\n",
    "<script>\n",
    "    var video = document.getElementById('this_vid');\n",
    "    video.onloadedmetadata = function() {\n",
    "        video.currentTime = {{ task.input.start_time }};\n",
    "    };\n",
    "    function onClick() {\n",
    "        video.pause();\n",
    "        video.currentTime = {{ task.input.start_time }};\n",
    "        video.play();\n",
    "        video.ontimeupdate = function () {\n",
    "            if (video.currentTime >= {{ task.input.end_time }}) {\n",
    "                video.pause()\n",
    "            }\n",
    "        }\n",
    "    }\n",
    "</script>\n",
    "\"\"\"\n",
    "\n",
    "def create_task_ui():\n",
    "    '''\n",
    "    Creates a Human Task UI resource.\n",
    "\n",
    "    Returns:\n",
    "    struct: HumanTaskUiArn\n",
    "    '''\n",
    "    response = sagemaker_client.create_human_task_ui(\n",
    "        HumanTaskUiName=taskUIName,\n",
    "        UiTemplate={'Content': template})\n",
    "    return response"
   ]
  },
  {
   "cell_type": "markdown",
   "metadata": {},
   "source": [
    "The `{{ task.input.filePath | grant_read_access }}` field grants access to and display a video using a path to the video’s location in an S3 bucket. To prevent the reviewer from navigating to irrelevant sections of the video, the `controls` parameter is omitted from the video tag and a single replay button is included to control which section can be replayed.\n",
    "\n",
    "Below the video player, the `<crowd-text-area>` HTML tag creates a submission form that your reviewer will use to type and submit.\n",
    "\n",
    "At the end of the HTML snippet, the `<script>` tag contains the logic for the replay button. The `{{ task.input.start_time }}` and `{{ task.input.end_time }}` fields allow you to inject the start and end times of the video subsection you want transcribed for the current task.\n",
    "\n",
    "Now let's create a Human Task UI resource."
   ]
  },
  {
   "cell_type": "code",
   "execution_count": 115,
   "metadata": {},
   "outputs": [
    {
     "name": "stdout",
     "output_type": "stream",
     "text": [
      "arn:aws:sagemaker:eu-central-1:733414849973:human-task-ui/ui-transcribe-8e58ff69-9be0-4782-a769-54cb664e497f\n"
     ]
    }
   ],
   "source": [
    "# Task UI name - this value is unique per account and region. You can also provide your own value here.\n",
    "taskUIName = 'ui-transcribe-' + str(uuid.uuid4()) \n",
    "\n",
    "# Create task UI\n",
    "humanTaskUiResponse = create_task_ui()\n",
    "humanTaskUiArn = humanTaskUiResponse['HumanTaskUiArn']\n",
    "print(humanTaskUiArn)"
   ]
  },
  {
   "cell_type": "markdown",
   "metadata": {},
   "source": [
    "### Flow Definition\n",
    "\n",
    "In this section, we're going to create a flow definition. Flow Definitions allow us to specify:\n",
    "\n",
    "* The workforce that your tasks will be sent to.\n",
    "* The instructions that your workforce will receive. This is called a worker task template.\n",
    "* The configuration of your worker tasks, including the number of workers that receive a task and time limits to complete tasks.\n",
    "* Where your output data will be stored.\n",
    "\n",
    "This demo is going to use the API, but you can optionally create this workflow definition in the console as well.\n",
    "\n",
    "For more details and instructions, see [Create a Flow Definition](https://docs.aws.amazon.com/sagemaker/latest/dg/a2i-create-flow-definition.html).\n"
   ]
  },
  {
   "cell_type": "code",
   "execution_count": 116,
   "metadata": {},
   "outputs": [],
   "source": [
    "# Flow definition name - this value is unique per account and region. You can also provide your own value here.\n",
    "flowDefinitionName = 'demo-flowdef-transcribe-' + str(uuid.uuid4()) \n",
    "\n",
    "create_workflow_definition_response = sagemaker_client.create_flow_definition(\n",
    "        FlowDefinitionName= flowDefinitionName,\n",
    "        RoleArn= ROLE,\n",
    "        HumanLoopConfig= {\n",
    "            \"WorkteamArn\": WORKTEAM_ARN,\n",
    "            \"HumanTaskUiArn\": humanTaskUiArn,\n",
    "            \"TaskCount\": 1,\n",
    "            \"TaskDescription\": \"Identify the word(s) spoken in the provided audio clip\",\n",
    "            \"TaskTitle\": \"DEMO: Determine Words/Phrases of Audio Clip: \" + str(datetime.now())\n",
    "        },\n",
    "        OutputConfig={\n",
    "            \"S3OutputPath\" : OUTPUT_PATH_A2I\n",
    "        }\n",
    "    )\n",
    "flowDefinitionArn = create_workflow_definition_response['FlowDefinitionArn'] # let's save this ARN for future use"
   ]
  },
  {
   "cell_type": "code",
   "execution_count": 117,
   "metadata": {},
   "outputs": [
    {
     "name": "stdout",
     "output_type": "stream",
     "text": [
      "Active\n",
      "Flow Definition is active\n"
     ]
    }
   ],
   "source": [
    "# Describe flow definition - status should be active\n",
    "for x in range(60):\n",
    "    describeFlowDefinitionResponse = sagemaker_client.describe_flow_definition(FlowDefinitionName=flowDefinitionName)\n",
    "    print(describeFlowDefinitionResponse['FlowDefinitionStatus'])\n",
    "    if (describeFlowDefinitionResponse['FlowDefinitionStatus'] == 'Active'):\n",
    "        print(\"Flow Definition is active\")\n",
    "        break\n",
    "    time.sleep(2)"
   ]
  },
  {
   "cell_type": "markdown",
   "metadata": {},
   "source": [
    "## Human Loops\n",
    "### Sending sequences of words/phrases of low confidence for review\n",
    "After setting up our Flow Definition, we're ready to use Amazon Transcribe and initiate human loops. While iterating through the list of transcribed words and their confidence scores, we create a HumanLoop task whenever the confidence score is below some threshold, `CONFIDENCE_SCORE_THRESHOLD`.\n",
    "\n",
    "An important thing to consider is how we deal with a low-confidence word that is part of a phrase that was also mis-transcribed. To handle these cases, let’s write a function that gets the sequence of words centered about a given index, and the sequence's starting and ending timestamps:"
   ]
  },
  {
   "cell_type": "code",
   "execution_count": 118,
   "metadata": {},
   "outputs": [],
   "source": [
    "# Use this function to get the words near a word with poor confidence,\n",
    "# since it is possible that the transcription also mis-transcribed nearby words/phrases\n",
    "def get_word_neighbors(words, index, margin):\n",
    "    \"\"\"\n",
    "    gets the words transcribe found at most `margin` away from the input index\n",
    "    Returns:\n",
    "        list: words at most 3 away from the input index\n",
    "        int: starting time of the first word in the list\n",
    "        int: ending time of the last word in the list\n",
    "    \"\"\"\n",
    "    i = max(0, index - margin)\n",
    "    j = min(len(words) - 1, index + margin)\n",
    "    return words[i: j + 1], words[i][\"start_time\"], words[j][\"end_time\"]"
   ]
  },
  {
   "cell_type": "markdown",
   "metadata": {},
   "source": [
    "Then, for every word we encounter with low confidence, we send its associated sequence of neighboring words for human review:"
   ]
  },
  {
   "cell_type": "code",
   "execution_count": 119,
   "metadata": {},
   "outputs": [
    {
     "name": "stdout",
     "output_type": "stream",
     "text": [
      "========= L'intervista a Francesco Starace amministratore delegato di Enel.mp4 =========\n",
      "The original transcription is \"dice che l'amministratore delegato dell'enel Benvenuto \"\n",
      "\n",
      "The original transcription is \"sta succedendo No per niente È semplice la risposta Perché Perché \"\n",
      "\n",
      "The original transcription is \"tanti motivi Diciamo per essere semplice diciamo Il paese in realtà \"\n",
      "\n",
      "The original transcription is \"imboccato un periodo di crescita Può essere discusso di tanto di \"\n",
      "\n",
      "The original transcription is \"tanto di poco di più o di meno C' è ancora \"\n",
      "\n",
      "The original transcription is \"fare Abbiamo visto anche qualche necessità abbastanza importante Quindi c' è \"\n",
      "\n",
      "The original transcription is \"importante Quindi c' è crescita cioè necessita di investimenti Mettiamoci a \"\n",
      "\n",
      "The original transcription is \"che uno vuole fare prima quello che vuole fare Senta un \"\n",
      "\n",
      "The original transcription is \"aumenta arrivano bollette Un po' più pesanti No è aumentata questo \"\n",
      "\n",
      "The original transcription is \"un contratto a prezzo fisso perché sono aumentate le materie prime \"\n",
      "\n",
      "The original transcription is \"sono aumentate le materie prime petroliferi Quindi aumentato il gas Sostanzialmente \"\n",
      "\n",
      "The original transcription is \"anche sulla convenienza dell'auto elettrica Perché l'abbiamo chiamata Perché incuriosisce l'auto \"\n",
      "\n",
      "The original transcription is \"chiamata Perché incuriosisce l'auto elettrica Non ci si vede che tanti \"\n",
      "\n",
      "The original transcription is \"ci vanno a investire Ti trasformerà in un'auto elettrica Allora anche \"\n",
      "\n",
      "The original transcription is \"elettrica Allora anche l'enel lo farà Giusto Perché allora innanzitutto l'auto \"\n",
      "\n",
      "The original transcription is \"l'auto elettrica ormai è arrivata da una maturità tecnologica Quindi è \"\n",
      "\n",
      "The original transcription is \"un sogno una cosa carina é diventata diventerà un prodotto di \"\n",
      "\n",
      "The original transcription is \"prodotto di massa che soppianta Era gradualmente il motore a combustione \"\n",
      "\n",
      "The original transcription is \"il motore a combustione interna perché la tecnologia ci ha portato \"\n",
      "\n",
      "The original transcription is \"la tecnologia ci ha portato li' e chiaramente lei nel si \"\n",
      "\n",
      "The original transcription is \"lei nel si occupa di elettricità Quindi sarebbe voi Non si \"\n",
      "\n",
      "The original transcription is \"Non si è occupato anche elettrica ma la tecnologia ci ha \"\n",
      "\n",
      "The original transcription is \"innanzitutto conviene non mi dica converrà in futuro adesso non costa \"\n",
      "\n",
      "The original transcription is \"non costa un po' di più avere un'auto elettrica di una \"\n",
      "\n",
      "The original transcription is \"macchina è ancora cara chiaramente perché sono macchine che si fanno \"\n",
      "\n",
      "The original transcription is \"comparabile ma l'utilizzo al chilometro già adesso costa molto meno Cioè \"\n",
      "\n",
      "The original transcription is \"meno Cioè fare il pieno tra virgolette a parità di percorrenza \"\n",
      "\n",
      "The original transcription is \"macchina elettrica costa circa la metà che farlo con una macchina \"\n",
      "\n",
      "The original transcription is \"conseguenza dipende molto da quanto una ragazza quanto la usa Però \"\n",
      "\n",
      "The original transcription is \"ricaricarla ricaricarla Pare che si diventa matti perché le colonnine non \"\n",
      "\n",
      "The original transcription is \"attaccare alla luce del garage perché crolla tutto il palazzo è \"\n",
      "\n",
      "The original transcription is \"tempi siamo nel periodo eroico delle macchine elettriche quindi c'è Io \"\n",
      "\n",
      "The original transcription is \"c'è Io ho delle macchine una macchina elettrica Ho fatto dei \"\n",
      "\n",
      "The original transcription is \"caricando nelle spine dei bar e diciamo sì perché in realtà \"\n",
      "\n",
      "The original transcription is \"in realtà ci sono molte più spine elettriche che pompe di \"\n",
      "\n",
      "The original transcription is \"che pompe di benzina Quindi una la macchina la ricarica sempre \"\n",
      "\n",
      "The original transcription is \"un po' di problemi Ecco perché noi abbiamo detto qual è \"\n",
      "\n",
      "The original transcription is \"è il ruolo dell' enel Perché lei ne deve parlare di \"\n",
      "\n",
      "The original transcription is \"un proprietario di una macchina Ad ora si trovano e quindi \"\n",
      "\n",
      "The original transcription is \"cominciato l'anno scorso Ci metteremo ancora un paio d'anni ma metteremo \"\n",
      "\n",
      "The original transcription is \"un paio d'anni ma metteremo giu' circa mila colonnine pubbliche Poi \"\n",
      "\n",
      "The original transcription is \"acquirenti di una macchina elettrica Una si compra anche il diciamo \"\n",
      "\n",
      "The original transcription is \"si compra anche il diciamo latrell attrezzatura per ricaricarlo a casa \"\n",
      "\n",
      "The original transcription is \"che uno su due ce la ce la casa ma un \"\n",
      "\n",
      "The original transcription is \"elettricità Ma diciamo che costa Ma diciamo cento chilometri di percorrenza \"\n",
      "\n",
      "The original transcription is \"sono macchine ormai che vanno proprio la che è un modello \"\n",
      "\n",
      "The original transcription is \"che è un modello E io non voglio dire le marche \"\n",
      "\n",
      "The original transcription is \"non voglio dire le marche diciamo Ci sono macchine che fanno \"\n",
      "\n",
      "The original transcription is \"macchine che fanno dai tre a quattrocento chilometri Ci sono oggi \"\n",
      "\n",
      "The original transcription is \"tutti per Roma che fanno i centoventi centotrenta chilometri Quindi cioè \"\n",
      "\n",
      "The original transcription is \"normale quando uno ci sale è una macchina che un'accelerazione pazzesca \"\n",
      "\n",
      "The original transcription is \"macchina che un'accelerazione pazzesca Quindi uno brucia tutti i motorini al \"\n",
      "\n",
      "The original transcription is \"La ripresa è impressionante perché ha una coppia veramente bellissima da \"\n",
      "\n",
      "The original transcription is \"che ci lavoravano prima Tutti Inizia avere guai seri Allora conviene \"\n",
      "\n",
      "The original transcription is \"no investirci in Tesla No in Tesla no perché non voglio \"\n",
      "\n",
      "The original transcription is \"auto elettriche come ha fatto Jeff Questo non spetta a me \"\n",
      "\n",
      "The original transcription is \"miliardi di investimenti sull'auto elettrica c' è un numero che ha \"\n",
      "\n",
      "The original transcription is \"società di consulenza Sono circa duecentocinquanta miliardi di dollari che tutti \"\n",
      "\n",
      "The original transcription is \"impazziti tutti insieme eppure bisogna assumere una traccia da perseguire Attenta \"\n",
      "\n",
      "The original transcription is \"perseguire Attenta il discorso ambientale perché molti sono attratti Perché dicevano \"\n",
      "\n",
      "The original transcription is \"molti sono attratti Perché dicevano in qui no Poi però noi \"\n",
      "\n",
      "The original transcription is \"detto che gradatamente chi più chi meno con maggiore minore velocità \"\n",
      "\n",
      "The original transcription is \"produzione di energia termica e succederà in maniera inevitabile Quindi in \"\n",
      "\n",
      "The original transcription is \"maniera inevitabile Quindi in Europa succederà Succederà negli Stati Uniti che \"\n",
      "\n",
      "The original transcription is \"una fotografia ad oggi facciamo fotografia Ad oggi in Italia non \"\n",
      "\n",
      "The original transcription is \"Italia non prendiamo il mix di generazione che abbiamo oggi in \"\n",
      "\n",
      "The original transcription is \"adesso una macchina elettrica considerando l'intero ciclo di produzione dell'energia elettrica \"\n",
      "\n",
      "The original transcription is \"circa il settanta percento meno é che di una macchina a \"\n",
      "\n",
      "The original transcription is \"interna E senza contare poi i particolati polveri sottili che non \"\n",
      "\n",
      "The original transcription is \"pioggia per i veicoli elettrici Va lasciato un po' indietro Siamo \"\n",
      "\n",
      "The original transcription is \"di incentivo Guardi tra l'altro se va a vedere gli incentivi \"\n",
      "\n",
      "The original transcription is \"che hanno fatto di diventare mal auto a metano Certo non \"\n",
      "\n",
      "========= Nascita e crescita di Enel - Enel Frammenti di storia.mp4 =========\n",
      "The original transcription is \"approvato la legge che nazionalizza energia elettrica da secoli Ogni giorno \"\n",
      "\n",
      "The original transcription is \"la sua attività nel millenovecento sessantatré con il graduale assorbimento delle \"\n",
      "\n",
      "The original transcription is \"al millenovecento sessantadue Il settanta percento dell'energia elettrica veniva prodotta dagli \"\n",
      "\n",
      "The original transcription is \"veniva prodotta dagli impianti idroelettrici che la crescita del fabbisogno energetico \"\n",
      "\n",
      "The original transcription is \"del Vajont Una gigantesca ondata ha scavalcato allora la diga ha \"\n",
      "\n",
      "The original transcription is \"razionalizzazione della rete di trasmissione di interconnessione a trecento ottanta kilowatt \"\n",
      "\n",
      "The original transcription is \"ottanta kilowatt lasciando alla rete a duecentoventi chilo a volte quelle \"\n",
      "\n",
      "The original transcription is \"avrebbe permesso la gestione coordinata dei diversi centri di produzione esistenti \"\n",
      "\n",
      "The original transcription is \"con i centri di consumo ha creato il collegamento tra il \"\n",
      "\n",
      "The original transcription is \"il sud del paese collegato alle isole Ho sentito importazioni di \"\n",
      "\n",
      "The original transcription is \"del disservizio che aveva contraddistinto all' epoca precedente nel corso degli \"\n",
      "\n",
      "The original transcription is \"impose una ridefinizione delle strategie enel in chiave di risparmio energetico \"\n",
      "\n",
      "The original transcription is \"di nuovi impianti nucleari idroelettrici a pompaggio ma \"\n",
      "\n",
      "Number of tasks sent to review: 85\n"
     ]
    }
   ],
   "source": [
    "# Sample data, human loop started\n",
    "human_loops_started = []\n",
    "CONFIDENCE_SCORE_THRESHOLD = THRESHOLD\n",
    "MARGIN = 5\n",
    "\n",
    "count = 0\n",
    "for index in range(num_videos):\n",
    "    this_uri = folder_path+all_videos[index]\n",
    "    this_confidences = all_confidences[index]\n",
    "    \n",
    "    print(\"========= \" + all_videos[index] + \" =========\")\n",
    "    \n",
    "    i = 0\n",
    "    while i < len(this_confidences):\n",
    "        word = this_confidences[i][\"content\"]\n",
    "        neighbors, start_time, end_time = get_word_neighbors(this_confidences, i, MARGIN)\n",
    "\n",
    "        # Our condition for when we want to engage a human for review\n",
    "        if (this_confidences[i][\"confidence\"] < CONFIDENCE_SCORE_THRESHOLD):\n",
    "\n",
    "            # get the original sequence of words\n",
    "            sequence = \"\"\n",
    "            for block in neighbors:\n",
    "                sequence += block['content'] + \" \"\n",
    "\n",
    "            humanLoopName = str(uuid.uuid4())\n",
    "            # \"initialValue\": word,\n",
    "            inputContent = {\n",
    "                \"filePath\": this_uri,\n",
    "                \"start_time\": start_time,\n",
    "                \"end_time\": end_time,\n",
    "                \"original_words\": sequence,\n",
    "                \"video_title\": all_videos[index]\n",
    "            }\n",
    "            start_loop_response = a2i.start_human_loop(\n",
    "                HumanLoopName=humanLoopName,\n",
    "                FlowDefinitionArn=flowDefinitionArn,\n",
    "                HumanLoopInput={\n",
    "                    \"InputContent\": json.dumps(inputContent)\n",
    "                }\n",
    "            )\n",
    "            human_loops_started.append(humanLoopName)\n",
    "            # print(f'Confidence score of {obj[\"confidence\"]} is less than the threshold of {CONFIDENCE_SCORE_THRESHOLD}')\n",
    "            # print(f'Starting human loop with name: {humanLoopName}')\n",
    "            # print(f'Sending words from times {start_time} to {end_time} to review')\n",
    "            print(f'The original transcription is \"{sequence}\"\\n')\n",
    "            \n",
    "            count = count + 1\n",
    "            \n",
    "            # Advance to next word after the margin away from the low-confidence word\n",
    "            i = i + MARGIN + 1\n",
    "        else:\n",
    "            # No human loop created, advance to next word.\n",
    "            i = i + 1\n",
    "            # print(f'Confidence score of {obj[\"confidence\"]} is above threshold of {CONFIDENCE_SCORE_THRESHOLD}')\n",
    "            # print('No human loop created. \\n')\n",
    "        \n",
    "\n",
    "print(f'Number of tasks sent to review: {count}')"
   ]
  },
  {
   "cell_type": "markdown",
   "metadata": {},
   "source": [
    "Let's also save the name of each human loop, in case we need to retrieve them later after shutting down this notebook instance."
   ]
  },
  {
   "cell_type": "code",
   "execution_count": 121,
   "metadata": {},
   "outputs": [
    {
     "name": "stdout",
     "output_type": "stream",
     "text": [
      "215906c2-fc02-47d7-a432-797f0f665235\n",
      "96de3488-7621-43eb-b606-83f763906711\n",
      "c2df6938-c623-4bb7-b642-988bd9b98841\n",
      "dd51823a-1800-4143-887c-4accd7f11bbe\n",
      "afe5d784-3cfb-49a6-872e-28eb59bbe444\n",
      "e48bd2a2-76bc-4506-bfac-999f24442f19\n",
      "0342121c-0462-41dd-a4ce-5b2cb20dd9c7\n",
      "8b2cfd50-7dfa-4b88-8b72-58db90778a1f\n",
      "3b307fd9-7fcb-4922-9285-08db4170b1bb\n",
      "c0d4cf40-7e26-41f3-891b-28ad499e9dc1\n",
      "6dc66d57-fb8b-406c-9d1c-1e4a176ce14f\n",
      "b3b6116e-f885-4a38-b288-d28fd5ba35b4\n",
      "73bc6bb4-6ff5-4286-8069-f752956d845c\n",
      "88c1764c-e13a-4e2a-88dd-43a051d8ed70\n",
      "2589661f-75b6-4676-ba63-ea6b9a1a628f\n",
      "3700effd-b928-445a-a84c-45531185bd96\n",
      "65ebfa70-11d3-4bd2-996c-fc6b4981fab2\n",
      "8f42c171-e36f-4f46-b9e1-6e4065e6399f\n",
      "2db42c37-99ac-4971-9841-939b827bd91b\n",
      "3373f2ae-554a-487e-b32c-07d0a9faca32\n",
      "718bd575-6f59-434d-9e62-f92859d8a826\n",
      "0bf458dc-6791-4107-a041-f0f5d304ba1c\n",
      "afbd57df-9735-4012-afd7-fd59fdb9a626\n",
      "378b7265-597e-4bb7-b222-631fca2cf529\n",
      "a1f95c8d-826d-4c1d-b1f6-42bd282e927b\n",
      "40e08091-99e3-4515-b880-5910afddda26\n",
      "9c17e051-38c7-43e6-b4e6-8b59ad1c1fc5\n",
      "f6869159-ba56-46df-a225-8005b6c64935\n",
      "aea14369-36ba-46bf-909f-1339ce8c8b89\n",
      "49e9b8ee-930c-467e-99ef-64e63f5d3db2\n",
      "61889539-f340-4e35-922e-d796054a9935\n",
      "2ddcf04a-44d6-491d-9dd2-21eecf4a7529\n",
      "baa1d66a-021e-4fa4-a4e0-ee78ef98230c\n",
      "b1a1d451-3928-4abc-a6a6-fc15b3973f59\n",
      "bf33fdb6-6cad-4b77-bea4-2c7ec0d15159\n",
      "33f4696c-8c7a-4365-a3b4-30d83939bc80\n",
      "573d7ca4-3f55-46e9-8a22-98695b9d5cf1\n",
      "cec8e35b-079d-47ba-b5cf-bb19eda7a989\n",
      "9c30bd4d-9250-4c21-9660-bb34a6700a9d\n",
      "8bb1b64f-2c3c-490d-b051-bd763ba6f80d\n",
      "e7a209b0-af50-4d1f-bdf7-a47be35e5be7\n",
      "6e5990fd-d92a-404d-b81d-823c9b31844b\n",
      "9f933acf-5cdd-4e8f-924b-93547fb3b602\n",
      "17734fbe-8901-40c8-93a4-e844e0b9ccbd\n",
      "f8d9e7df-90ce-4569-bf28-c7681904a4f7\n",
      "25c9b8d0-6c9d-45dc-9b67-20946eb0fa3d\n",
      "cb090566-6aa5-4cd9-82ae-8ca7a624633d\n",
      "43c324e0-f1e8-4f4f-9e26-b2f659188335\n",
      "8e24f2e7-5b20-41c0-b960-611baa376c45\n",
      "8ee6ed16-b9f0-4a9d-8a07-a64575137a09\n",
      "a9049826-f0ef-4926-ba49-91d66aecde2a\n",
      "d5437f1c-254d-462e-95e5-88fa332ad282\n",
      "cd0469ee-12bc-467a-a4d7-d76886caffe4\n",
      "dce3db38-b9de-4f7b-a5e0-6277ae21f397\n",
      "aaf2b4a4-65e7-4f91-8554-ccdc09bb1624\n",
      "da08f08b-f9d8-4b55-92ab-6af44cdf5a77\n",
      "f73d0bb5-faf0-4a19-82ba-e073cd714c99\n",
      "64a59770-358b-4c8f-84f2-0ea9a7532fc0\n",
      "3502e572-b61e-4688-9e40-cb7e24de0523\n",
      "f852468a-2e92-40fe-b9e7-13382a2cac22\n",
      "e18f45a1-28c3-4a66-8c3e-e288a00de585\n",
      "dc520e1f-f8ca-4fe5-ba54-60be8356ae2b\n",
      "8583a0dd-96b5-42bc-86f1-aa4007b8b342\n",
      "69775588-bb91-4267-94c5-911780573213\n",
      "f3f5e81e-06a4-4b73-80f8-c1f506b05116\n",
      "3c0e1ec4-9d6a-4696-be1d-e214f0d490af\n",
      "7cdb54d9-b793-439a-9ce0-7948d85e483c\n",
      "05c5d931-e0b1-4e39-8401-e505761a978b\n",
      "a4e37818-776c-40b8-8016-4ddad4eb7832\n",
      "50a29ba0-7ded-4f8b-b705-d1bc9664464a\n",
      "61cf9d19-1caa-4f73-a1f9-a9c62c4b2eb3\n",
      "a711eb2f-5eb9-4d4f-8cd5-730fe477d98d\n",
      "5e1e3ab8-0d64-48bc-9882-7a8b19b31e51\n",
      "d14aee6d-6edb-4dd3-a541-fadfa2ee3112\n",
      "17668ced-66ac-4426-8ad6-b640a666c7e7\n",
      "10e49ff8-1508-450b-a65b-4024ed8a2ded\n",
      "d4604104-508c-4254-916a-83137557d9eb\n",
      "5209781c-6a99-46de-866a-a84b786cbfe2\n",
      "c1f221b8-d7ef-4cf6-b2ee-5c97e316eea3\n",
      "db6f360d-f5f6-4573-b0f9-667ba6082825\n",
      "6535ece7-a8ff-4bba-878b-80f6df151f50\n",
      "a0cb61d3-fdba-4a4a-ab85-cf08a771428b\n",
      "a023dff9-26f3-4c61-bf8b-6a56c3d4422f\n",
      "5e0f86b8-bf0a-4f3f-98d6-e980032f4391\n",
      "67416c96-3fbe-4557-b873-7eb21368fb81\n"
     ]
    }
   ],
   "source": [
    "file_hl = open(\"human_loops_names.txt\",\"w\") \n",
    "for name in human_loops_started:\n",
    "    file_hl.write(name + \"\\n\") \n",
    "file_hl.close()\n",
    "!cat human_loops_names.txt"
   ]
  },
  {
   "cell_type": "markdown",
   "metadata": {},
   "source": [
    "### Check Status of Human Loop"
   ]
  },
  {
   "cell_type": "code",
   "execution_count": 122,
   "metadata": {},
   "outputs": [
    {
     "name": "stdout",
     "output_type": "stream",
     "text": [
      "HumanLoop Name: 215906c2-fc02-47d7-a432-797f0f665235\n",
      "HumanLoop Status: InProgress\n",
      "HumanLoop Name: 96de3488-7621-43eb-b606-83f763906711\n",
      "HumanLoop Status: InProgress\n",
      "HumanLoop Name: c2df6938-c623-4bb7-b642-988bd9b98841\n",
      "HumanLoop Status: InProgress\n",
      "HumanLoop Name: dd51823a-1800-4143-887c-4accd7f11bbe\n",
      "HumanLoop Status: InProgress\n",
      "HumanLoop Name: afe5d784-3cfb-49a6-872e-28eb59bbe444\n",
      "HumanLoop Status: InProgress\n",
      "HumanLoop Name: e48bd2a2-76bc-4506-bfac-999f24442f19\n",
      "HumanLoop Status: InProgress\n",
      "HumanLoop Name: 0342121c-0462-41dd-a4ce-5b2cb20dd9c7\n",
      "HumanLoop Status: InProgress\n",
      "HumanLoop Name: 8b2cfd50-7dfa-4b88-8b72-58db90778a1f\n",
      "HumanLoop Status: InProgress\n",
      "HumanLoop Name: 3b307fd9-7fcb-4922-9285-08db4170b1bb\n",
      "HumanLoop Status: InProgress\n",
      "HumanLoop Name: c0d4cf40-7e26-41f3-891b-28ad499e9dc1\n",
      "HumanLoop Status: InProgress\n",
      "HumanLoop Name: 6dc66d57-fb8b-406c-9d1c-1e4a176ce14f\n",
      "HumanLoop Status: InProgress\n",
      "HumanLoop Name: b3b6116e-f885-4a38-b288-d28fd5ba35b4\n",
      "HumanLoop Status: InProgress\n",
      "HumanLoop Name: 73bc6bb4-6ff5-4286-8069-f752956d845c\n",
      "HumanLoop Status: InProgress\n",
      "HumanLoop Name: 88c1764c-e13a-4e2a-88dd-43a051d8ed70\n",
      "HumanLoop Status: InProgress\n",
      "HumanLoop Name: 2589661f-75b6-4676-ba63-ea6b9a1a628f\n",
      "HumanLoop Status: InProgress\n",
      "HumanLoop Name: 3700effd-b928-445a-a84c-45531185bd96\n",
      "HumanLoop Status: InProgress\n",
      "HumanLoop Name: 65ebfa70-11d3-4bd2-996c-fc6b4981fab2\n",
      "HumanLoop Status: InProgress\n",
      "HumanLoop Name: 8f42c171-e36f-4f46-b9e1-6e4065e6399f\n",
      "HumanLoop Status: InProgress\n",
      "HumanLoop Name: 2db42c37-99ac-4971-9841-939b827bd91b\n",
      "HumanLoop Status: InProgress\n",
      "HumanLoop Name: 3373f2ae-554a-487e-b32c-07d0a9faca32\n",
      "HumanLoop Status: InProgress\n",
      "HumanLoop Name: 718bd575-6f59-434d-9e62-f92859d8a826\n",
      "HumanLoop Status: InProgress\n",
      "HumanLoop Name: 0bf458dc-6791-4107-a041-f0f5d304ba1c\n",
      "HumanLoop Status: InProgress\n",
      "HumanLoop Name: afbd57df-9735-4012-afd7-fd59fdb9a626\n",
      "HumanLoop Status: InProgress\n",
      "HumanLoop Name: 378b7265-597e-4bb7-b222-631fca2cf529\n",
      "HumanLoop Status: InProgress\n",
      "HumanLoop Name: a1f95c8d-826d-4c1d-b1f6-42bd282e927b\n",
      "HumanLoop Status: InProgress\n",
      "HumanLoop Name: 40e08091-99e3-4515-b880-5910afddda26\n",
      "HumanLoop Status: InProgress\n",
      "HumanLoop Name: 9c17e051-38c7-43e6-b4e6-8b59ad1c1fc5\n",
      "HumanLoop Status: InProgress\n",
      "HumanLoop Name: f6869159-ba56-46df-a225-8005b6c64935\n",
      "HumanLoop Status: InProgress\n",
      "HumanLoop Name: aea14369-36ba-46bf-909f-1339ce8c8b89\n",
      "HumanLoop Status: InProgress\n",
      "HumanLoop Name: 49e9b8ee-930c-467e-99ef-64e63f5d3db2\n",
      "HumanLoop Status: InProgress\n",
      "HumanLoop Name: 61889539-f340-4e35-922e-d796054a9935\n",
      "HumanLoop Status: InProgress\n",
      "HumanLoop Name: 2ddcf04a-44d6-491d-9dd2-21eecf4a7529\n",
      "HumanLoop Status: InProgress\n",
      "HumanLoop Name: baa1d66a-021e-4fa4-a4e0-ee78ef98230c\n",
      "HumanLoop Status: InProgress\n",
      "HumanLoop Name: b1a1d451-3928-4abc-a6a6-fc15b3973f59\n",
      "HumanLoop Status: InProgress\n",
      "HumanLoop Name: bf33fdb6-6cad-4b77-bea4-2c7ec0d15159\n",
      "HumanLoop Status: InProgress\n",
      "HumanLoop Name: 33f4696c-8c7a-4365-a3b4-30d83939bc80\n",
      "HumanLoop Status: InProgress\n",
      "HumanLoop Name: 573d7ca4-3f55-46e9-8a22-98695b9d5cf1\n",
      "HumanLoop Status: InProgress\n",
      "HumanLoop Name: cec8e35b-079d-47ba-b5cf-bb19eda7a989\n",
      "HumanLoop Status: InProgress\n",
      "HumanLoop Name: 9c30bd4d-9250-4c21-9660-bb34a6700a9d\n",
      "HumanLoop Status: InProgress\n",
      "HumanLoop Name: 8bb1b64f-2c3c-490d-b051-bd763ba6f80d\n",
      "HumanLoop Status: InProgress\n",
      "HumanLoop Name: e7a209b0-af50-4d1f-bdf7-a47be35e5be7\n",
      "HumanLoop Status: InProgress\n",
      "HumanLoop Name: 6e5990fd-d92a-404d-b81d-823c9b31844b\n",
      "HumanLoop Status: InProgress\n",
      "HumanLoop Name: 9f933acf-5cdd-4e8f-924b-93547fb3b602\n",
      "HumanLoop Status: InProgress\n",
      "HumanLoop Name: 17734fbe-8901-40c8-93a4-e844e0b9ccbd\n",
      "HumanLoop Status: InProgress\n",
      "HumanLoop Name: f8d9e7df-90ce-4569-bf28-c7681904a4f7\n",
      "HumanLoop Status: InProgress\n",
      "HumanLoop Name: 25c9b8d0-6c9d-45dc-9b67-20946eb0fa3d\n",
      "HumanLoop Status: InProgress\n",
      "HumanLoop Name: cb090566-6aa5-4cd9-82ae-8ca7a624633d\n",
      "HumanLoop Status: InProgress\n",
      "HumanLoop Name: 43c324e0-f1e8-4f4f-9e26-b2f659188335\n",
      "HumanLoop Status: InProgress\n",
      "HumanLoop Name: 8e24f2e7-5b20-41c0-b960-611baa376c45\n",
      "HumanLoop Status: InProgress\n",
      "HumanLoop Name: 8ee6ed16-b9f0-4a9d-8a07-a64575137a09\n",
      "HumanLoop Status: InProgress\n",
      "HumanLoop Name: a9049826-f0ef-4926-ba49-91d66aecde2a\n",
      "HumanLoop Status: InProgress\n",
      "HumanLoop Name: d5437f1c-254d-462e-95e5-88fa332ad282\n",
      "HumanLoop Status: InProgress\n",
      "HumanLoop Name: cd0469ee-12bc-467a-a4d7-d76886caffe4\n",
      "HumanLoop Status: InProgress\n",
      "HumanLoop Name: dce3db38-b9de-4f7b-a5e0-6277ae21f397\n",
      "HumanLoop Status: InProgress\n",
      "HumanLoop Name: aaf2b4a4-65e7-4f91-8554-ccdc09bb1624\n",
      "HumanLoop Status: InProgress\n",
      "HumanLoop Name: da08f08b-f9d8-4b55-92ab-6af44cdf5a77\n",
      "HumanLoop Status: InProgress\n",
      "HumanLoop Name: f73d0bb5-faf0-4a19-82ba-e073cd714c99\n",
      "HumanLoop Status: InProgress\n",
      "HumanLoop Name: 64a59770-358b-4c8f-84f2-0ea9a7532fc0\n",
      "HumanLoop Status: InProgress\n",
      "HumanLoop Name: 3502e572-b61e-4688-9e40-cb7e24de0523\n",
      "HumanLoop Status: InProgress\n",
      "HumanLoop Name: f852468a-2e92-40fe-b9e7-13382a2cac22\n",
      "HumanLoop Status: InProgress\n",
      "HumanLoop Name: e18f45a1-28c3-4a66-8c3e-e288a00de585\n",
      "HumanLoop Status: InProgress\n",
      "HumanLoop Name: dc520e1f-f8ca-4fe5-ba54-60be8356ae2b\n",
      "HumanLoop Status: InProgress\n",
      "HumanLoop Name: 8583a0dd-96b5-42bc-86f1-aa4007b8b342\n",
      "HumanLoop Status: InProgress\n",
      "HumanLoop Name: 69775588-bb91-4267-94c5-911780573213\n",
      "HumanLoop Status: InProgress\n",
      "HumanLoop Name: f3f5e81e-06a4-4b73-80f8-c1f506b05116\n",
      "HumanLoop Status: InProgress\n",
      "HumanLoop Name: 3c0e1ec4-9d6a-4696-be1d-e214f0d490af\n",
      "HumanLoop Status: InProgress\n",
      "HumanLoop Name: 7cdb54d9-b793-439a-9ce0-7948d85e483c\n",
      "HumanLoop Status: InProgress\n",
      "HumanLoop Name: 05c5d931-e0b1-4e39-8401-e505761a978b\n",
      "HumanLoop Status: InProgress\n",
      "HumanLoop Name: a4e37818-776c-40b8-8016-4ddad4eb7832\n",
      "HumanLoop Status: InProgress\n",
      "HumanLoop Name: 50a29ba0-7ded-4f8b-b705-d1bc9664464a\n",
      "HumanLoop Status: InProgress\n",
      "HumanLoop Name: 61cf9d19-1caa-4f73-a1f9-a9c62c4b2eb3\n",
      "HumanLoop Status: InProgress\n",
      "HumanLoop Name: a711eb2f-5eb9-4d4f-8cd5-730fe477d98d\n",
      "HumanLoop Status: InProgress\n",
      "HumanLoop Name: 5e1e3ab8-0d64-48bc-9882-7a8b19b31e51\n",
      "HumanLoop Status: InProgress\n",
      "HumanLoop Name: d14aee6d-6edb-4dd3-a541-fadfa2ee3112\n",
      "HumanLoop Status: InProgress\n",
      "HumanLoop Name: 17668ced-66ac-4426-8ad6-b640a666c7e7\n",
      "HumanLoop Status: InProgress\n",
      "HumanLoop Name: 10e49ff8-1508-450b-a65b-4024ed8a2ded\n",
      "HumanLoop Status: InProgress\n",
      "HumanLoop Name: d4604104-508c-4254-916a-83137557d9eb\n",
      "HumanLoop Status: InProgress\n",
      "HumanLoop Name: 5209781c-6a99-46de-866a-a84b786cbfe2\n",
      "HumanLoop Status: InProgress\n",
      "HumanLoop Name: c1f221b8-d7ef-4cf6-b2ee-5c97e316eea3\n",
      "HumanLoop Status: InProgress\n",
      "HumanLoop Name: db6f360d-f5f6-4573-b0f9-667ba6082825\n",
      "HumanLoop Status: InProgress\n",
      "HumanLoop Name: 6535ece7-a8ff-4bba-878b-80f6df151f50\n",
      "HumanLoop Status: InProgress\n",
      "HumanLoop Name: a0cb61d3-fdba-4a4a-ab85-cf08a771428b\n",
      "HumanLoop Status: InProgress\n",
      "HumanLoop Name: a023dff9-26f3-4c61-bf8b-6a56c3d4422f\n",
      "HumanLoop Status: InProgress\n",
      "HumanLoop Name: 5e0f86b8-bf0a-4f3f-98d6-e980032f4391\n",
      "HumanLoop Status: InProgress\n",
      "HumanLoop Name: 67416c96-3fbe-4557-b873-7eb21368fb81\n",
      "HumanLoop Status: InProgress\n"
     ]
    }
   ],
   "source": [
    "for human_loop_name in human_loops_started:\n",
    "    resp = a2i.describe_human_loop(HumanLoopName=human_loop_name)\n",
    "    print(f'HumanLoop Name: {human_loop_name}')\n",
    "    print(f'HumanLoop Status: {resp[\"HumanLoopStatus\"]}')\n",
    "    # print(f'HumanLoop Output Destination: {resp[\"HumanLoopOutput\"]}')\n",
    "    # print('\\n')"
   ]
  },
  {
   "cell_type": "markdown",
   "metadata": {},
   "source": [
    "### Wait For Workers to Complete Task\n",
    "We display the link to the private worker portal here for convenience. Check your email (or the email your worker provided) for the login information."
   ]
  },
  {
   "cell_type": "code",
   "execution_count": 124,
   "metadata": {},
   "outputs": [
    {
     "name": "stdout",
     "output_type": "stream",
     "text": [
      "Navigate to the private worker portal and do the tasks. Make sure you've invited yourself to your workteam!\n",
      "https://q18mgti4iu.labeling.eu-central-1.sagemaker.aws\n"
     ]
    }
   ],
   "source": [
    "# Wait For Workers to Complete Task\n",
    "workteamName = WORKTEAM_ARN[WORKTEAM_ARN.rfind('/') + 1:]\n",
    "print(\"Navigate to the private worker portal and do the tasks. Make sure you've invited yourself to your workteam!\")\n",
    "print('https://' + sagemaker_client.describe_workteam(WorkteamName=workteamName)['Workteam']['SubDomain'])"
   ]
  },
  {
   "cell_type": "markdown",
   "metadata": {},
   "source": [
    "### Check Status of Human Loop Again\n",
    "Human loop statuses that are completed will display `Completed` below. Note that it is not required to complete all human review tasks before continuing. Having 3-5 completed tasks is typically sufficient to see how technical terms can be extracted from the results."
   ]
  },
  {
   "cell_type": "code",
   "execution_count": 125,
   "metadata": {},
   "outputs": [
    {
     "name": "stdout",
     "output_type": "stream",
     "text": [
      "HumanLoop Name: 215906c2-fc02-47d7-a432-797f0f665235\n",
      "HumanLoop Status: Completed\n",
      "HumanLoop Name: 96de3488-7621-43eb-b606-83f763906711\n",
      "HumanLoop Status: Completed\n",
      "HumanLoop Name: c2df6938-c623-4bb7-b642-988bd9b98841\n",
      "HumanLoop Status: Completed\n",
      "HumanLoop Name: dd51823a-1800-4143-887c-4accd7f11bbe\n",
      "HumanLoop Status: Completed\n",
      "HumanLoop Name: afe5d784-3cfb-49a6-872e-28eb59bbe444\n",
      "HumanLoop Status: Completed\n",
      "HumanLoop Name: e48bd2a2-76bc-4506-bfac-999f24442f19\n",
      "HumanLoop Status: Completed\n",
      "HumanLoop Name: 0342121c-0462-41dd-a4ce-5b2cb20dd9c7\n",
      "HumanLoop Status: Completed\n",
      "HumanLoop Name: 8b2cfd50-7dfa-4b88-8b72-58db90778a1f\n",
      "HumanLoop Status: Completed\n",
      "HumanLoop Name: 3b307fd9-7fcb-4922-9285-08db4170b1bb\n",
      "HumanLoop Status: Completed\n",
      "HumanLoop Name: c0d4cf40-7e26-41f3-891b-28ad499e9dc1\n",
      "HumanLoop Status: Completed\n",
      "HumanLoop Name: 6dc66d57-fb8b-406c-9d1c-1e4a176ce14f\n",
      "HumanLoop Status: Completed\n",
      "HumanLoop Name: b3b6116e-f885-4a38-b288-d28fd5ba35b4\n",
      "HumanLoop Status: Completed\n",
      "HumanLoop Name: 73bc6bb4-6ff5-4286-8069-f752956d845c\n",
      "HumanLoop Status: Completed\n",
      "HumanLoop Name: 88c1764c-e13a-4e2a-88dd-43a051d8ed70\n",
      "HumanLoop Status: Completed\n",
      "HumanLoop Name: 2589661f-75b6-4676-ba63-ea6b9a1a628f\n",
      "HumanLoop Status: Completed\n",
      "HumanLoop Name: 3700effd-b928-445a-a84c-45531185bd96\n",
      "HumanLoop Status: Completed\n",
      "HumanLoop Name: 65ebfa70-11d3-4bd2-996c-fc6b4981fab2\n",
      "HumanLoop Status: Completed\n",
      "HumanLoop Name: 8f42c171-e36f-4f46-b9e1-6e4065e6399f\n",
      "HumanLoop Status: Completed\n",
      "HumanLoop Name: 2db42c37-99ac-4971-9841-939b827bd91b\n",
      "HumanLoop Status: Completed\n",
      "HumanLoop Name: 3373f2ae-554a-487e-b32c-07d0a9faca32\n",
      "HumanLoop Status: Completed\n",
      "HumanLoop Name: 718bd575-6f59-434d-9e62-f92859d8a826\n",
      "HumanLoop Status: Completed\n",
      "HumanLoop Name: 0bf458dc-6791-4107-a041-f0f5d304ba1c\n",
      "HumanLoop Status: Completed\n",
      "HumanLoop Name: afbd57df-9735-4012-afd7-fd59fdb9a626\n",
      "HumanLoop Status: Completed\n",
      "HumanLoop Name: 378b7265-597e-4bb7-b222-631fca2cf529\n",
      "HumanLoop Status: Completed\n",
      "HumanLoop Name: a1f95c8d-826d-4c1d-b1f6-42bd282e927b\n",
      "HumanLoop Status: Completed\n",
      "HumanLoop Name: 40e08091-99e3-4515-b880-5910afddda26\n",
      "HumanLoop Status: Completed\n",
      "HumanLoop Name: 9c17e051-38c7-43e6-b4e6-8b59ad1c1fc5\n",
      "HumanLoop Status: Completed\n",
      "HumanLoop Name: f6869159-ba56-46df-a225-8005b6c64935\n",
      "HumanLoop Status: Completed\n",
      "HumanLoop Name: aea14369-36ba-46bf-909f-1339ce8c8b89\n",
      "HumanLoop Status: Completed\n",
      "HumanLoop Name: 49e9b8ee-930c-467e-99ef-64e63f5d3db2\n",
      "HumanLoop Status: Completed\n",
      "HumanLoop Name: 61889539-f340-4e35-922e-d796054a9935\n",
      "HumanLoop Status: Completed\n",
      "HumanLoop Name: 2ddcf04a-44d6-491d-9dd2-21eecf4a7529\n",
      "HumanLoop Status: Completed\n",
      "HumanLoop Name: baa1d66a-021e-4fa4-a4e0-ee78ef98230c\n",
      "HumanLoop Status: Completed\n",
      "HumanLoop Name: b1a1d451-3928-4abc-a6a6-fc15b3973f59\n",
      "HumanLoop Status: Completed\n",
      "HumanLoop Name: bf33fdb6-6cad-4b77-bea4-2c7ec0d15159\n",
      "HumanLoop Status: Completed\n",
      "HumanLoop Name: 33f4696c-8c7a-4365-a3b4-30d83939bc80\n",
      "HumanLoop Status: Completed\n",
      "HumanLoop Name: 573d7ca4-3f55-46e9-8a22-98695b9d5cf1\n",
      "HumanLoop Status: Completed\n",
      "HumanLoop Name: cec8e35b-079d-47ba-b5cf-bb19eda7a989\n",
      "HumanLoop Status: Completed\n",
      "HumanLoop Name: 9c30bd4d-9250-4c21-9660-bb34a6700a9d\n",
      "HumanLoop Status: Completed\n",
      "HumanLoop Name: 8bb1b64f-2c3c-490d-b051-bd763ba6f80d\n",
      "HumanLoop Status: Completed\n",
      "HumanLoop Name: e7a209b0-af50-4d1f-bdf7-a47be35e5be7\n",
      "HumanLoop Status: Failed\n",
      "HumanLoop Name: 6e5990fd-d92a-404d-b81d-823c9b31844b\n",
      "HumanLoop Status: Completed\n",
      "HumanLoop Name: 9f933acf-5cdd-4e8f-924b-93547fb3b602\n",
      "HumanLoop Status: Completed\n",
      "HumanLoop Name: 17734fbe-8901-40c8-93a4-e844e0b9ccbd\n",
      "HumanLoop Status: Completed\n",
      "HumanLoop Name: f8d9e7df-90ce-4569-bf28-c7681904a4f7\n",
      "HumanLoop Status: Completed\n",
      "HumanLoop Name: 25c9b8d0-6c9d-45dc-9b67-20946eb0fa3d\n",
      "HumanLoop Status: Completed\n",
      "HumanLoop Name: cb090566-6aa5-4cd9-82ae-8ca7a624633d\n",
      "HumanLoop Status: Completed\n",
      "HumanLoop Name: 43c324e0-f1e8-4f4f-9e26-b2f659188335\n",
      "HumanLoop Status: Completed\n",
      "HumanLoop Name: 8e24f2e7-5b20-41c0-b960-611baa376c45\n",
      "HumanLoop Status: Completed\n",
      "HumanLoop Name: 8ee6ed16-b9f0-4a9d-8a07-a64575137a09\n",
      "HumanLoop Status: Completed\n",
      "HumanLoop Name: a9049826-f0ef-4926-ba49-91d66aecde2a\n",
      "HumanLoop Status: Completed\n",
      "HumanLoop Name: d5437f1c-254d-462e-95e5-88fa332ad282\n",
      "HumanLoop Status: Completed\n",
      "HumanLoop Name: cd0469ee-12bc-467a-a4d7-d76886caffe4\n",
      "HumanLoop Status: Completed\n",
      "HumanLoop Name: dce3db38-b9de-4f7b-a5e0-6277ae21f397\n",
      "HumanLoop Status: Completed\n",
      "HumanLoop Name: aaf2b4a4-65e7-4f91-8554-ccdc09bb1624\n",
      "HumanLoop Status: Completed\n",
      "HumanLoop Name: da08f08b-f9d8-4b55-92ab-6af44cdf5a77\n",
      "HumanLoop Status: Completed\n",
      "HumanLoop Name: f73d0bb5-faf0-4a19-82ba-e073cd714c99\n",
      "HumanLoop Status: Completed\n",
      "HumanLoop Name: 64a59770-358b-4c8f-84f2-0ea9a7532fc0\n",
      "HumanLoop Status: Completed\n",
      "HumanLoop Name: 3502e572-b61e-4688-9e40-cb7e24de0523\n",
      "HumanLoop Status: Completed\n",
      "HumanLoop Name: f852468a-2e92-40fe-b9e7-13382a2cac22\n",
      "HumanLoop Status: Completed\n",
      "HumanLoop Name: e18f45a1-28c3-4a66-8c3e-e288a00de585\n",
      "HumanLoop Status: Completed\n",
      "HumanLoop Name: dc520e1f-f8ca-4fe5-ba54-60be8356ae2b\n",
      "HumanLoop Status: Completed\n",
      "HumanLoop Name: 8583a0dd-96b5-42bc-86f1-aa4007b8b342\n",
      "HumanLoop Status: Completed\n",
      "HumanLoop Name: 69775588-bb91-4267-94c5-911780573213\n",
      "HumanLoop Status: Completed\n",
      "HumanLoop Name: f3f5e81e-06a4-4b73-80f8-c1f506b05116\n",
      "HumanLoop Status: Completed\n",
      "HumanLoop Name: 3c0e1ec4-9d6a-4696-be1d-e214f0d490af\n",
      "HumanLoop Status: Completed\n",
      "HumanLoop Name: 7cdb54d9-b793-439a-9ce0-7948d85e483c\n",
      "HumanLoop Status: Completed\n",
      "HumanLoop Name: 05c5d931-e0b1-4e39-8401-e505761a978b\n",
      "HumanLoop Status: Completed\n",
      "HumanLoop Name: a4e37818-776c-40b8-8016-4ddad4eb7832\n",
      "HumanLoop Status: Completed\n",
      "HumanLoop Name: 50a29ba0-7ded-4f8b-b705-d1bc9664464a\n",
      "HumanLoop Status: Completed\n",
      "HumanLoop Name: 61cf9d19-1caa-4f73-a1f9-a9c62c4b2eb3\n",
      "HumanLoop Status: Completed\n",
      "HumanLoop Name: a711eb2f-5eb9-4d4f-8cd5-730fe477d98d\n",
      "HumanLoop Status: Completed\n",
      "HumanLoop Name: 5e1e3ab8-0d64-48bc-9882-7a8b19b31e51\n",
      "HumanLoop Status: Completed\n",
      "HumanLoop Name: d14aee6d-6edb-4dd3-a541-fadfa2ee3112\n",
      "HumanLoop Status: Completed\n",
      "HumanLoop Name: 17668ced-66ac-4426-8ad6-b640a666c7e7\n",
      "HumanLoop Status: Completed\n",
      "HumanLoop Name: 10e49ff8-1508-450b-a65b-4024ed8a2ded\n",
      "HumanLoop Status: Completed\n",
      "HumanLoop Name: d4604104-508c-4254-916a-83137557d9eb\n",
      "HumanLoop Status: Completed\n",
      "HumanLoop Name: 5209781c-6a99-46de-866a-a84b786cbfe2\n",
      "HumanLoop Status: Completed\n",
      "HumanLoop Name: c1f221b8-d7ef-4cf6-b2ee-5c97e316eea3\n",
      "HumanLoop Status: Completed\n",
      "HumanLoop Name: db6f360d-f5f6-4573-b0f9-667ba6082825\n",
      "HumanLoop Status: Completed\n",
      "HumanLoop Name: 6535ece7-a8ff-4bba-878b-80f6df151f50\n",
      "HumanLoop Status: Completed\n",
      "HumanLoop Name: a0cb61d3-fdba-4a4a-ab85-cf08a771428b\n",
      "HumanLoop Status: Completed\n",
      "HumanLoop Name: a023dff9-26f3-4c61-bf8b-6a56c3d4422f\n",
      "HumanLoop Status: Completed\n",
      "HumanLoop Name: 5e0f86b8-bf0a-4f3f-98d6-e980032f4391\n",
      "HumanLoop Status: Completed\n",
      "HumanLoop Name: 67416c96-3fbe-4557-b873-7eb21368fb81\n",
      "HumanLoop Status: Completed\n"
     ]
    }
   ],
   "source": [
    "completed_human_loops = []\n",
    "for human_loop_name in human_loops_started:\n",
    "    resp = a2i.describe_human_loop(HumanLoopName=human_loop_name)\n",
    "    print(f'HumanLoop Name: {human_loop_name}')\n",
    "    print(f'HumanLoop Status: {resp[\"HumanLoopStatus\"]}')\n",
    "    # print(f'HumanLoop Output Destination: {resp[\"HumanLoopOutput\"]}')\n",
    "    # print('\\n')\n",
    "    \n",
    "    if resp[\"HumanLoopStatus\"] == \"Completed\":\n",
    "        completed_human_loops.append(resp)\n"
   ]
  },
  {
   "cell_type": "markdown",
   "metadata": {},
   "source": [
    "### View Task Results\n",
    "\n",
    "Once work is completed, Amazon A2I stores results in your S3 bucket and sends a Cloudwatch event. Your results should be available in the S3 `OUTPUT_PATH` when all work is completed."
   ]
  },
  {
   "cell_type": "code",
   "execution_count": 126,
   "metadata": {},
   "outputs": [
    {
     "name": "stdout",
     "output_type": "stream",
     "text": [
      "{}\n",
      "{}\n",
      "{}\n",
      "{}\n",
      "{}\n",
      "{}\n",
      "{   'transcription': \"importante Quindi c' è crescita c' è necessita di \"\n",
      "                     'investimenti Mettiamoci a'}\n",
      "{}\n",
      "{}\n",
      "{}\n",
      "{}\n",
      "{}\n",
      "{}\n",
      "{   'transcription': \"si vanno a investire si trasformerà in un'auto elettrica \"\n",
      "                     'Allora anche lei'}\n",
      "{}\n",
      "{   'transcription': \"l'auto elettrica ormai è arrivata ad una maturità \"\n",
      "                     'tecnologica Quindi è '}\n",
      "{}\n",
      "{}\n",
      "{}\n",
      "{}\n",
      "{}\n",
      "{}\n",
      "{}\n",
      "{}\n",
      "{}\n",
      "{}\n",
      "{}\n",
      "{}\n",
      "{}\n",
      "{}\n",
      "{}\n",
      "{}\n",
      "{}\n",
      "{}\n",
      "{}\n",
      "{}\n",
      "{}\n",
      "{}\n",
      "{}\n",
      "{}\n",
      "{}\n",
      "{}\n",
      "{}\n",
      "{}\n",
      "{}\n",
      "{}\n",
      "{}\n",
      "{}\n",
      "{}\n",
      "{}\n",
      "{}\n",
      "{}\n",
      "{}\n",
      "{}\n",
      "{}\n",
      "{}\n",
      "{}\n",
      "{}\n",
      "{}\n",
      "{}\n",
      "{}\n",
      "{}\n",
      "{}\n",
      "{}\n",
      "{}\n",
      "{}\n",
      "{}\n",
      "{}\n",
      "{}\n",
      "{}\n",
      "{}\n",
      "{}\n",
      "{}\n",
      "{}\n",
      "{}\n",
      "{}\n",
      "{}\n",
      "{}\n",
      "{   'transcription': 'avrebbe permesso la gestione coordinata dei diversi '\n",
      "                     'centri di produzione esistenti '}\n",
      "{}\n",
      "{   'transcription': 'il sud del paese collegato alle isole consentito '\n",
      "                     'importazioni di'}\n",
      "{}\n",
      "{}\n",
      "{}\n"
     ]
    }
   ],
   "source": [
    "import re\n",
    "import pprint\n",
    "\n",
    "pp = pprint.PrettyPrinter(indent=4)\n",
    "\n",
    "for resp in completed_human_loops:\n",
    "    splitted_string = re.split('s3://' +  BUCKET + '/', resp['HumanLoopOutput']['OutputS3Uri'])\n",
    "    output_bucket_key = splitted_string[1]\n",
    "\n",
    "    response = s3.get_object(Bucket=BUCKET, Key=output_bucket_key)\n",
    "    content = response[\"Body\"].read()\n",
    "    json_output = json.loads(content)\n",
    "    pp.pprint(json_output['humanAnswers'][0]['answerContent'])"
   ]
  },
  {
   "cell_type": "markdown",
   "metadata": {},
   "source": [
    "## Step 3: Build custom vocabularies using A2I results\n",
    "\n",
    "Using the corrected transcriptions from our human reviewers, let’s parse through these results to identify the domain-specific terms that we want to add to a custom vocabulary. "
   ]
  },
  {
   "cell_type": "markdown",
   "metadata": {},
   "source": [
    "### Retrieve A2I results\n",
    "To get the technical terms identified by human review, we first accumulate all human-reviewed words into a list."
   ]
  },
  {
   "cell_type": "code",
   "execution_count": 127,
   "metadata": {},
   "outputs": [
    {
     "name": "stdout",
     "output_type": "stream",
     "text": [
      "['importante', 'quindi', 'c', 'è', 'crescita']\n"
     ]
    }
   ],
   "source": [
    "from string import punctuation\n",
    "\n",
    "corrected_words = []\n",
    "\n",
    "for resp in completed_human_loops:\n",
    "    splitted_string = re.split('s3://' +  BUCKET + '/', resp['HumanLoopOutput']['OutputS3Uri'])\n",
    "    output_bucket_key = splitted_string[1]\n",
    "\n",
    "    response = s3.get_object(Bucket=BUCKET, Key=output_bucket_key)\n",
    "    content = response[\"Body\"].read()\n",
    "    json_output = json.loads(content)\n",
    "    \n",
    "    # check if a transcription was submitted\n",
    "    if 'transcription' in json_output['humanAnswers'][0]['answerContent']:\n",
    "        # add the human-reviewed answers split by spaces\n",
    "        corrected_words += [word.strip(punctuation).lower() for word in json_output['humanAnswers'][0]['answerContent']['transcription'].split(\" \")]\n",
    "\n",
    "# Sanity check!\n",
    "print(corrected_words[0:5])"
   ]
  },
  {
   "cell_type": "markdown",
   "metadata": {},
   "source": [
    "### Filtering out common English words\n",
    "Now, we want to parse through these words and look for “uncommon” English words. An easy way to do this is to use a large English corpus and verify whether each of our human-reviewed words exists in this corpus:"
   ]
  },
  {
   "cell_type": "code",
   "execution_count": 128,
   "metadata": {},
   "outputs": [
    {
     "name": "stderr",
     "output_type": "stream",
     "text": [
      "[nltk_data] Downloading package words to /home/ec2-user/nltk_data...\n",
      "[nltk_data]   Package words is already up-to-date!\n"
     ]
    }
   ],
   "source": [
    "# Create dictionary of English words\n",
    "# Note that this corpus of words is not 100% exhaustive\n",
    "import nltk\n",
    "nltk.download('words')\n",
    "\n",
    "from nltk.corpus import words\n",
    "my_dict=set(words.words()) "
   ]
  },
  {
   "cell_type": "code",
   "execution_count": 129,
   "metadata": {},
   "outputs": [],
   "source": [
    "# Function for removing contractions\n",
    "# Source: https://en.wikipedia.org/wiki/Wikipedia:List_of_English_contractions\n",
    "contractions = { \n",
    "\"ain't\": \"am not / are not / is not / has not / have not\",\n",
    "\"aren't\": \"are not / am not\",\n",
    "\"can't\": \"cannot\",\n",
    "\"can't've\": \"cannot have\",\n",
    "\"'cause\": \"because\",\n",
    "\"could've\": \"could have\",\n",
    "\"couldn't\": \"could not\",\n",
    "\"couldn't've\": \"could not have\",\n",
    "\"didn't\": \"did not\",\n",
    "\"doesn't\": \"does not\",\n",
    "\"don't\": \"do not\",\n",
    "\"hadn't\": \"had not\",\n",
    "\"hadn't've\": \"had not have\",\n",
    "\"hasn't\": \"has not\",\n",
    "\"haven't\": \"have not\",\n",
    "\"he'd\": \"he had / he would\",\n",
    "\"he'd've\": \"he would have\",\n",
    "\"he'll\": \"he shall / he will\",\n",
    "\"he'll've\": \"he shall have / he will have\",\n",
    "\"he's\": \"he has / he is\",\n",
    "\"how'd\": \"how did\",\n",
    "\"how'd'y\": \"how do you\",\n",
    "\"how'll\": \"how will\",\n",
    "\"how's\": \"how has / how is / how does\",\n",
    "\"I'd\": \"I had / I would\",\n",
    "\"I'd've\": \"I would have\",\n",
    "\"I'll\": \"I shall / I will\",\n",
    "\"I'll've\": \"I shall have / I will have\",\n",
    "\"I'm\": \"I am\",\n",
    "\"I've\": \"I have\",\n",
    "\"isn't\": \"is not\",\n",
    "\"it'd\": \"it had / it would\",\n",
    "\"it'd've\": \"it would have\",\n",
    "\"it'll\": \"it shall / it will\",\n",
    "\"it'll've\": \"it shall have / it will have\",\n",
    "\"it's\": \"it has / it is\",\n",
    "\"let's\": \"let us\",\n",
    "\"ma'am\": \"madam\",\n",
    "\"mayn't\": \"may not\",\n",
    "\"might've\": \"might have\",\n",
    "\"mightn't\": \"might not\",\n",
    "\"mightn't've\": \"might not have\",\n",
    "\"must've\": \"must have\",\n",
    "\"mustn't\": \"must not\",\n",
    "\"mustn't've\": \"must not have\",\n",
    "\"needn't\": \"need not\",\n",
    "\"needn't've\": \"need not have\",\n",
    "\"o'clock\": \"of the clock\",\n",
    "\"oughtn't\": \"ought not\",\n",
    "\"oughtn't've\": \"ought not have\",\n",
    "\"shan't\": \"shall not\",\n",
    "\"sha'n't\": \"shall not\",\n",
    "\"shan't've\": \"shall not have\",\n",
    "\"she'd\": \"she had / she would\",\n",
    "\"she'd've\": \"she would have\",\n",
    "\"she'll\": \"she shall / she will\",\n",
    "\"she'll've\": \"she shall have / she will have\",\n",
    "\"she's\": \"she has / she is\",\n",
    "\"should've\": \"should have\",\n",
    "\"shouldn't\": \"should not\",\n",
    "\"shouldn't've\": \"should not have\",\n",
    "\"so've\": \"so have\",\n",
    "\"so's\": \"so as / so is\",\n",
    "\"that'd\": \"that would / that had\",\n",
    "\"that'd've\": \"that would have\",\n",
    "\"that's\": \"that has / that is\",\n",
    "\"there'd\": \"there had / there would\",\n",
    "\"there'd've\": \"there would have\",\n",
    "\"there's\": \"there has / there is\",\n",
    "\"they'd\": \"they had / they would\",\n",
    "\"they'd've\": \"they would have\",\n",
    "\"they'll\": \"they shall / they will\",\n",
    "\"they'll've\": \"they shall have / they will have\",\n",
    "\"they're\": \"they are\",\n",
    "\"they've\": \"they have\",\n",
    "\"to've\": \"to have\",\n",
    "\"wasn't\": \"was not\",\n",
    "\"we'd\": \"we had / we would\",\n",
    "\"we'd've\": \"we would have\",\n",
    "\"we'll\": \"we will\",\n",
    "\"we'll've\": \"we will have\",\n",
    "\"we're\": \"we are\",\n",
    "\"we've\": \"we have\",\n",
    "\"weren't\": \"were not\",\n",
    "\"what'll\": \"what shall / what will\",\n",
    "\"what'll've\": \"what shall have / what will have\",\n",
    "\"what're\": \"what are\",\n",
    "\"what's\": \"what has / what is\",\n",
    "\"what've\": \"what have\",\n",
    "\"when's\": \"when has / when is\",\n",
    "\"when've\": \"when have\",\n",
    "\"where'd\": \"where did\",\n",
    "\"where's\": \"where has / where is\",\n",
    "\"where've\": \"where have\",\n",
    "\"who'll\": \"who shall / who will\",\n",
    "\"who'll've\": \"who shall have / who will have\",\n",
    "\"who's\": \"who has / who is\",\n",
    "\"who've\": \"who have\",\n",
    "\"why's\": \"why has / why is\",\n",
    "\"why've\": \"why have\",\n",
    "\"will've\": \"will have\",\n",
    "\"won't\": \"will not\",\n",
    "\"won't've\": \"will not have\",\n",
    "\"would've\": \"would have\",\n",
    "\"wouldn't\": \"would not\",\n",
    "\"wouldn't've\": \"would not have\",\n",
    "\"y'all\": \"you all\",\n",
    "\"y'all'd\": \"you all would\",\n",
    "\"y'all'd've\": \"you all would have\",\n",
    "\"y'all're\": \"you all are\",\n",
    "\"y'all've\": \"you all have\",\n",
    "\"you'd\": \"you had / you would\",\n",
    "\"you'd've\": \"you would have\",\n",
    "\"you'll\": \"you shall / you will\",\n",
    "\"you'll've\": \"you shall have / you will have\",\n",
    "\"you're\": \"you are\",\n",
    "\"you've\": \"you have\"\n",
    "}\n",
    "def remove_contractions(word_list):\n",
    "    return [word for word in word_list if word not in contractions]"
   ]
  },
  {
   "cell_type": "markdown",
   "metadata": {},
   "source": [
    "### View Technical/Uncommon Words\n",
    "After removing contractions, human-reviewed words that are not in the English language corpus are likely to be the technical terms we are looking for."
   ]
  },
  {
   "cell_type": "code",
   "execution_count": 130,
   "metadata": {},
   "outputs": [],
   "source": [
    "word_set = set([])\n",
    "for word in remove_contractions(corrected_words):\n",
    "    if word:\n",
    "        if word.lower() not in my_dict:\n",
    "            if word.endswith('s') and word[:-1] in my_dict:\n",
    "                print(\"\")\n",
    "            elif word.endswith(\"'s\") and word[:-2] in my_dict:\n",
    "                print(\"\")\n",
    "            else:\n",
    "                word_set.add(word)"
   ]
  },
  {
   "cell_type": "code",
   "execution_count": 131,
   "metadata": {},
   "outputs": [
    {
     "name": "stdout",
     "output_type": "stream",
     "text": [
      "importante\n",
      "necessita\n",
      "alle\n",
      "consentito\n",
      "una\n",
      "investimenti\n",
      "esistenti\n",
      "permesso\n",
      "elettrica\n",
      "investire\n",
      "centri\n",
      "quindi\n",
      "crescita\n",
      "ormai\n",
      "avrebbe\n",
      "diversi\n",
      "mettiamoci\n",
      "è\n",
      "l'auto\n",
      "collegato\n",
      "isole\n",
      "allora\n",
      "coordinata\n",
      "tecnologica\n",
      "anche\n",
      "gestione\n",
      "arrivata\n",
      "dei\n",
      "vanno\n",
      "del\n",
      "paese\n",
      "il\n",
      "trasformerà\n",
      "un'auto\n",
      "maturità\n",
      "importazioni\n",
      "produzione\n"
     ]
    }
   ],
   "source": [
    "for word in word_set:\n",
    "    print(word)"
   ]
  },
  {
   "cell_type": "markdown",
   "metadata": {},
   "source": [
    "### Create Custom Vocabulary\n",
    "Using the technical terms identified above, it is now easier to manually create a custom vocabulary of those terms that we want Transcribe to be able to recognize. A custom vocabulary table enables options to tell Amazon Transcribe how each technical term is pronounced and how it should be displayed. More details on how to form a custom vocabulary table can be found at [Create a Custom Vocabulary Using a Table](https://docs.aws.amazon.com/transcribe/latest/dg/how-vocabulary.html#create-vocabulary-table)."
   ]
  },
  {
   "cell_type": "markdown",
   "metadata": {},
   "source": [
    "Note that as you process additional videos on the same topic, you can keep updating this list, and the number of new technical terms you'll have to add will likely decrease each time you get a new video."
   ]
  },
  {
   "cell_type": "markdown",
   "metadata": {},
   "source": []
  },
  {
   "cell_type": "code",
   "execution_count": 132,
   "metadata": {},
   "outputs": [],
   "source": [
    "finalized_words=[['Phrase','IPA','SoundsLike','DisplayAs'], # This top line denote the column headers of the text file.\n",
    "                 ['spm','','','SPM'],\n",
    "                 #insert here your custom vocabulary \n",
    "                 \n",
    "                ]\n",
    "\n",
    "\n",
    "\n"
   ]
  },
  {
   "cell_type": "markdown",
   "metadata": {},
   "source": [
    "In this example, let's take a look at several phrases. The term \"machine learning\" in hyphenated in the first column to indicate that these two distinct words are pronounced. The `SoundsLike` column is left blank since both \"machine\" and \"learning\" are common words by themselves that Transcribe likely already knows how to pronounce.\n",
    "\n",
    "The terms ECR, EBS, SDK, and other acronyms all should have periods after each letter in the `Phrase` column to denote that the letters are pronounced individually by name. This is reinforced in the `SoundsLike` column.\n",
    "\n",
    "You'll also notice that hybrid acronym phrases like \"opt-M.L.\" and \"E.C.-Two\" follow a combination of both conventions above.\n",
    "\n",
    "Finally, the column corresponding to the IPA pronunciation is left blank for every word. The International Phonetic Alphabet (IPA) is the official standardized representation of the sounds of spoken language and may require some familiarity with phonetic notation. If you want to give Transcribe an extremely precise and unambiguous pronunciation guide, you can include IPA pronunciations instead of `SoundsLike` pronunciations by using an [IPA pronunciation key](https://en.wiktionary.org/wiki/Wiktionary:IPA_pronunciation_key) or looking them up in a dictionary."
   ]
  },
  {
   "cell_type": "markdown",
   "metadata": {},
   "source": [
    "### Write the Custom Vocabulary Table to a Txt File"
   ]
  },
  {
   "cell_type": "code",
   "execution_count": 133,
   "metadata": {},
   "outputs": [],
   "source": [
    "custom_vocab_file_name = \"customvocabtechnogym.txt\"\n",
    "file1 = open(custom_vocab_file_name,\"w\")\n",
    "template = '{}\\t{}\\t{}\\t{}\\n'\n",
    "for line in finalized_words:\n",
    "    file1.write(template.format(line[0],\n",
    "                                line[1],\n",
    "                                line[2],\n",
    "                                line[3])\n",
    "               )\n",
    "file1.close()"
   ]
  },
  {
   "cell_type": "markdown",
   "metadata": {},
   "source": [
    "### Upload Custom Vocabulary File to S3"
   ]
  },
  {
   "cell_type": "code",
   "execution_count": 134,
   "metadata": {},
   "outputs": [],
   "source": [
    "import logging\n",
    "import boto3\n",
    "from botocore.exceptions import ClientError\n",
    "\n",
    "\n",
    "def upload_file(file_name, bucket, object_name=None):\n",
    "    \"\"\"Upload a file to an S3 bucket\n",
    "\n",
    "    :param file_name: File to upload\n",
    "    :param bucket: Bucket to upload to\n",
    "    :param object_name: S3 object name. If not specified then file_name is used\n",
    "    :return: True if file was uploaded, else False\n",
    "    \"\"\"\n",
    "\n",
    "    # If S3 object_name was not specified, use file_name\n",
    "    if object_name is None:\n",
    "        object_name = file_name\n",
    "\n",
    "    # Upload the file\n",
    "    s3_client = boto3.client('s3')\n",
    "    try:\n",
    "        response = s3_client.upload_file(file_name, bucket, object_name)\n",
    "    except ClientError as e:\n",
    "        logging.error(e)\n",
    "        return False\n",
    "    return True"
   ]
  },
  {
   "cell_type": "code",
   "execution_count": 135,
   "metadata": {},
   "outputs": [
    {
     "data": {
      "text/plain": [
       "True"
      ]
     },
     "execution_count": 135,
     "metadata": {},
     "output_type": "execute_result"
    }
   ],
   "source": [
    "upload_file(custom_vocab_file_name, BUCKET)"
   ]
  },
  {
   "cell_type": "markdown",
   "metadata": {},
   "source": [
    "### Create the Custom Vocabulary for Amazon Transcribe\n",
    "After saving your custom vocabulary table to a text file and uploading it to an S3 bucket, create your custom vocabulary with a specified name so that Amazon Transcribe can use it."
   ]
  },
  {
   "cell_type": "code",
   "execution_count": 136,
   "metadata": {},
   "outputs": [
    {
     "data": {
      "text/plain": [
       "'sagemaker-custom-vocab-technogym7e2fb81a-cd03-4a0d-a863-59c811696e69'"
      ]
     },
     "execution_count": 136,
     "metadata": {},
     "output_type": "execute_result"
    }
   ],
   "source": [
    "# The name of your custom vocabulary must be unique!\n",
    "vocab_improved='sagemaker-custom-vocab-technogym' + str(uuid.uuid4())\n",
    "vocab_improved"
   ]
  },
  {
   "cell_type": "code",
   "execution_count": 137,
   "metadata": {},
   "outputs": [
    {
     "name": "stdout",
     "output_type": "stream",
     "text": [
      "{   'LanguageCode': 'en-US',\n",
      "    'ResponseMetadata': {   'HTTPHeaders': {   'connection': 'keep-alive',\n",
      "                                               'content-length': '140',\n",
      "                                               'content-type': 'application/x-amz-json-1.1',\n",
      "                                               'date': 'Mon, 07 Feb 2022 '\n",
      "                                                       '13:54:50 GMT',\n",
      "                                               'x-amzn-requestid': 'a38d1746-5065-4a03-bd0e-bb977f01006e'},\n",
      "                            'HTTPStatusCode': 200,\n",
      "                            'RequestId': 'a38d1746-5065-4a03-bd0e-bb977f01006e',\n",
      "                            'RetryAttempts': 0},\n",
      "    'VocabularyName': 'sagemaker-custom-vocab-technogym7e2fb81a-cd03-4a0d-a863-59c811696e69',\n",
      "    'VocabularyState': 'PENDING'}\n"
     ]
    }
   ],
   "source": [
    "transcribe_client = boto3.client(\"transcribe\")\n",
    "response = transcribe_client.create_vocabulary(\n",
    "    VocabularyName=vocab_improved,\n",
    "    LanguageCode='en-US',\n",
    "    VocabularyFileUri='s3://' + BUCKET + '/' + custom_vocab_file_name\n",
    ")\n",
    "pp.pprint(response)"
   ]
  },
  {
   "cell_type": "markdown",
   "metadata": {},
   "source": [
    "Wait until the `VocabularyState` displays `READY` before continuing. This typically takes a few minutes or less."
   ]
  },
  {
   "cell_type": "code",
   "execution_count": 138,
   "metadata": {},
   "outputs": [
    {
     "name": "stdout",
     "output_type": "stream",
     "text": [
      "Not ready yet...\n",
      "READY\n"
     ]
    }
   ],
   "source": [
    "# Wait for the status of the vocab you created to finish\n",
    "while True:\n",
    "    response = transcribe_client.get_vocabulary(\n",
    "        VocabularyName=vocab_improved\n",
    "    )\n",
    "    status = response['VocabularyState']\n",
    "    if status in ['READY', 'FAILED']:\n",
    "        print(status)\n",
    "        break\n",
    "    print(\"Not ready yet...\")\n",
    "    time.sleep(5)"
   ]
  },
  {
   "cell_type": "markdown",
   "metadata": {},
   "source": [
    "## Step 4: Improve transcription using custom vocabulary\n",
    "\n",
    "### Re-transcribe using the Custom Vocabulary\n",
    "Let's re-transcribe the video using our custom vocabulary."
   ]
  },
  {
   "cell_type": "code",
   "execution_count": 139,
   "metadata": {},
   "outputs": [
    {
     "data": {
      "text/plain": [
       "['AWS-custom-0-using-sagemaker-custom-vocab-technogym7e2fb81a-cd03-4a0d-a863-59c811696e6911.53.34']"
      ]
     },
     "execution_count": 139,
     "metadata": {},
     "output_type": "execute_result"
    }
   ],
   "source": [
    "# New job names\n",
    "# In-sample videos\n",
    "job_name_custom_vid_0='AWS-custom-0-using-' + vocab_improved + str(time_now)\n",
    "job_names_custom = [job_name_custom_vid_0]\n",
    "job_names_custom"
   ]
  },
  {
   "cell_type": "markdown",
   "metadata": {},
   "source": [
    "### iterate on more videos"
   ]
  },
  {
   "cell_type": "code",
   "execution_count": 140,
   "metadata": {},
   "outputs": [],
   "source": [
    "# You can give each transcription job any name. We attach a timestamp to each job name here\n",
    "# to prevent conflicting job names in case we need to re-run any jobs.\n",
    "#now = datetime.now()\n",
    "#time_now = now.strftime(\"%H.%M.%S\")\n",
    "\n",
    "# Path to folder\n",
    "#folder_path = f\"s3://{BUCKET}/input_technogym/\"\n",
    "\n",
    "#job_names = []\n",
    "#for i in range(num_videos):\n",
    "#    job_names.append(\"AWS-technogym-cutom-vid-\" + str(i) + \"-\" + str(time_now))\n",
    "\n",
    "#job_names_custom"
   ]
  },
  {
   "cell_type": "code",
   "execution_count": 141,
   "metadata": {},
   "outputs": [
    {
     "name": "stdout",
     "output_type": "stream",
     "text": [
      "------mp4\n",
      "An error occurred (BadRequestException) when calling the StartTranscriptionJob operation: The language used in the specified vocabulary doesn't match the specified language code.\n"
     ]
    },
    {
     "ename": "NameError",
     "evalue": "name 'all_videos_s3' is not defined",
     "output_type": "error",
     "traceback": [
      "\u001b[0;31m---------------------------------------------------------------------------\u001b[0m",
      "\u001b[0;31mNameError\u001b[0m                                 Traceback (most recent call last)",
      "\u001b[0;32m<ipython-input-141-d24d0b054d6e>\u001b[0m in \u001b[0;36m<module>\u001b[0;34m\u001b[0m\n\u001b[1;32m      4\u001b[0m \u001b[0;31m## Start a transcription job\u001b[0m\u001b[0;34m\u001b[0m\u001b[0;34m\u001b[0m\u001b[0;34m\u001b[0m\u001b[0m\n\u001b[1;32m      5\u001b[0m \u001b[0;32mfor\u001b[0m \u001b[0mi\u001b[0m \u001b[0;32min\u001b[0m \u001b[0mrange\u001b[0m\u001b[0;34m(\u001b[0m\u001b[0mlen\u001b[0m\u001b[0;34m(\u001b[0m\u001b[0mjob_names\u001b[0m\u001b[0;34m)\u001b[0m\u001b[0;34m)\u001b[0m\u001b[0;34m:\u001b[0m\u001b[0;34m\u001b[0m\u001b[0;34m\u001b[0m\u001b[0m\n\u001b[0;32m----> 6\u001b[0;31m     \u001b[0mtranscribe\u001b[0m\u001b[0;34m(\u001b[0m\u001b[0mjob_names\u001b[0m\u001b[0;34m[\u001b[0m\u001b[0mi\u001b[0m\u001b[0;34m]\u001b[0m\u001b[0;34m,\u001b[0m \u001b[0mfolder_path\u001b[0m\u001b[0;34m+\u001b[0m\u001b[0mall_videos_s3\u001b[0m\u001b[0;34m[\u001b[0m\u001b[0mi\u001b[0m\u001b[0;34m]\u001b[0m\u001b[0;34m,\u001b[0m \u001b[0mBUCKET_OUTPUT\u001b[0m\u001b[0;34m,\u001b[0m \u001b[0mvocab_name\u001b[0m\u001b[0;34m=\u001b[0m\u001b[0mvocab_improved\u001b[0m\u001b[0;34m)\u001b[0m\u001b[0;34m\u001b[0m\u001b[0;34m\u001b[0m\u001b[0m\n\u001b[0m",
      "\u001b[0;31mNameError\u001b[0m: name 'all_videos_s3' is not defined"
     ]
    }
   ],
   "source": [
    "# Start another transcription job using your custom vocabulary.\n",
    "transcribe(job_name_custom_vid_0, folder_path+all_videos[0], BUCKET, vocab_name=vocab_improved)\n",
    "\n",
    "## Start a transcription job\n",
    "for i in range(len(job_names)):\n",
    "    transcribe(job_names[i], folder_path+all_videos_s3[i], BUCKET_OUTPUT, vocab_name=vocab_improved)"
   ]
  },
  {
   "cell_type": "markdown",
   "metadata": {},
   "source": [
    "At this point, it may have been some time since you've run the first few cells of this notebook. If you get the error `TypeError: 'TranscribeService' object is not callable`, your execution role may have expired. Refreshing the role connection using the cell below (after uncommenting) is typically able to resolve this issue. You may also need to re-run the cells containing the definition of the function `transcribe` (the first code cell of Step 1)."
   ]
  },
  {
   "cell_type": "code",
   "execution_count": 142,
   "metadata": {},
   "outputs": [],
   "source": [
    "# from sagemaker import get_execution_role\n",
    "\n",
    "# ROLE = get_execution_role()\n",
    "# display(ROLE)"
   ]
  },
  {
   "cell_type": "markdown",
   "metadata": {},
   "source": [
    "Check the status of your transcription job. Wait until the status displays `COMPLETED`."
   ]
  },
  {
   "cell_type": "code",
   "execution_count": 143,
   "metadata": {},
   "outputs": [
    {
     "ename": "BadRequestException",
     "evalue": "An error occurred (BadRequestException) when calling the GetTranscriptionJob operation: The requested job couldn't be found. Check the job name and try your request again.",
     "output_type": "error",
     "traceback": [
      "\u001b[0;31m---------------------------------------------------------------------------\u001b[0m",
      "\u001b[0;31mBadRequestException\u001b[0m                       Traceback (most recent call last)",
      "\u001b[0;32m<ipython-input-143-5683cb674e12>\u001b[0m in \u001b[0;36m<module>\u001b[0;34m\u001b[0m\n\u001b[1;32m      1\u001b[0m \u001b[0;32mwhile\u001b[0m \u001b[0;32mTrue\u001b[0m\u001b[0;34m:\u001b[0m\u001b[0;34m\u001b[0m\u001b[0;34m\u001b[0m\u001b[0m\n\u001b[1;32m      2\u001b[0m     response = transcribe_client.get_transcription_job(\n\u001b[0;32m----> 3\u001b[0;31m         \u001b[0mTranscriptionJobName\u001b[0m\u001b[0;34m=\u001b[0m\u001b[0mjob_name_custom_vid_0\u001b[0m\u001b[0;34m\u001b[0m\u001b[0;34m\u001b[0m\u001b[0m\n\u001b[0m\u001b[1;32m      4\u001b[0m     )\n\u001b[1;32m      5\u001b[0m     \u001b[0mstatus\u001b[0m \u001b[0;34m=\u001b[0m \u001b[0mresponse\u001b[0m\u001b[0;34m[\u001b[0m\u001b[0;34m'TranscriptionJob'\u001b[0m\u001b[0;34m]\u001b[0m\u001b[0;34m[\u001b[0m\u001b[0;34m'TranscriptionJobStatus'\u001b[0m\u001b[0;34m]\u001b[0m\u001b[0;34m\u001b[0m\u001b[0;34m\u001b[0m\u001b[0m\n",
      "\u001b[0;32m~/anaconda3/envs/python3/lib/python3.6/site-packages/botocore/client.py\u001b[0m in \u001b[0;36m_api_call\u001b[0;34m(self, *args, **kwargs)\u001b[0m\n\u001b[1;32m    389\u001b[0m                     \"%s() only accepts keyword arguments.\" % py_operation_name)\n\u001b[1;32m    390\u001b[0m             \u001b[0;31m# The \"self\" in this scope is referring to the BaseClient.\u001b[0m\u001b[0;34m\u001b[0m\u001b[0;34m\u001b[0m\u001b[0;34m\u001b[0m\u001b[0m\n\u001b[0;32m--> 391\u001b[0;31m             \u001b[0;32mreturn\u001b[0m \u001b[0mself\u001b[0m\u001b[0;34m.\u001b[0m\u001b[0m_make_api_call\u001b[0m\u001b[0;34m(\u001b[0m\u001b[0moperation_name\u001b[0m\u001b[0;34m,\u001b[0m \u001b[0mkwargs\u001b[0m\u001b[0;34m)\u001b[0m\u001b[0;34m\u001b[0m\u001b[0;34m\u001b[0m\u001b[0m\n\u001b[0m\u001b[1;32m    392\u001b[0m \u001b[0;34m\u001b[0m\u001b[0m\n\u001b[1;32m    393\u001b[0m         \u001b[0m_api_call\u001b[0m\u001b[0;34m.\u001b[0m\u001b[0m__name__\u001b[0m \u001b[0;34m=\u001b[0m \u001b[0mstr\u001b[0m\u001b[0;34m(\u001b[0m\u001b[0mpy_operation_name\u001b[0m\u001b[0;34m)\u001b[0m\u001b[0;34m\u001b[0m\u001b[0;34m\u001b[0m\u001b[0m\n",
      "\u001b[0;32m~/anaconda3/envs/python3/lib/python3.6/site-packages/botocore/client.py\u001b[0m in \u001b[0;36m_make_api_call\u001b[0;34m(self, operation_name, api_params)\u001b[0m\n\u001b[1;32m    717\u001b[0m             \u001b[0merror_code\u001b[0m \u001b[0;34m=\u001b[0m \u001b[0mparsed_response\u001b[0m\u001b[0;34m.\u001b[0m\u001b[0mget\u001b[0m\u001b[0;34m(\u001b[0m\u001b[0;34m\"Error\"\u001b[0m\u001b[0;34m,\u001b[0m \u001b[0;34m{\u001b[0m\u001b[0;34m}\u001b[0m\u001b[0;34m)\u001b[0m\u001b[0;34m.\u001b[0m\u001b[0mget\u001b[0m\u001b[0;34m(\u001b[0m\u001b[0;34m\"Code\"\u001b[0m\u001b[0;34m)\u001b[0m\u001b[0;34m\u001b[0m\u001b[0;34m\u001b[0m\u001b[0m\n\u001b[1;32m    718\u001b[0m             \u001b[0merror_class\u001b[0m \u001b[0;34m=\u001b[0m \u001b[0mself\u001b[0m\u001b[0;34m.\u001b[0m\u001b[0mexceptions\u001b[0m\u001b[0;34m.\u001b[0m\u001b[0mfrom_code\u001b[0m\u001b[0;34m(\u001b[0m\u001b[0merror_code\u001b[0m\u001b[0;34m)\u001b[0m\u001b[0;34m\u001b[0m\u001b[0;34m\u001b[0m\u001b[0m\n\u001b[0;32m--> 719\u001b[0;31m             \u001b[0;32mraise\u001b[0m \u001b[0merror_class\u001b[0m\u001b[0;34m(\u001b[0m\u001b[0mparsed_response\u001b[0m\u001b[0;34m,\u001b[0m \u001b[0moperation_name\u001b[0m\u001b[0;34m)\u001b[0m\u001b[0;34m\u001b[0m\u001b[0;34m\u001b[0m\u001b[0m\n\u001b[0m\u001b[1;32m    720\u001b[0m         \u001b[0;32melse\u001b[0m\u001b[0;34m:\u001b[0m\u001b[0;34m\u001b[0m\u001b[0;34m\u001b[0m\u001b[0m\n\u001b[1;32m    721\u001b[0m             \u001b[0;32mreturn\u001b[0m \u001b[0mparsed_response\u001b[0m\u001b[0;34m\u001b[0m\u001b[0;34m\u001b[0m\u001b[0m\n",
      "\u001b[0;31mBadRequestException\u001b[0m: An error occurred (BadRequestException) when calling the GetTranscriptionJob operation: The requested job couldn't be found. Check the job name and try your request again."
     ]
    }
   ],
   "source": [
    "while True:\n",
    "    response = transcribe_client.get_transcription_job(\n",
    "        TranscriptionJobName=job_name_custom_vid_0\n",
    "    )\n",
    "    status = response['TranscriptionJob']['TranscriptionJobStatus']\n",
    "    if status in ['COMPLETED', 'FAILED']:\n",
    "        print(status)\n",
    "        break\n",
    "    print(\"Not ready yet...\")\n",
    "    time.sleep(5)\n",
    "    "
   ]
  },
  {
   "cell_type": "code",
   "execution_count": 144,
   "metadata": {},
   "outputs": [
    {
     "ename": "NoSuchKey",
     "evalue": "An error occurred (NoSuchKey) when calling the GetObject operation: The specified key does not exist.",
     "output_type": "error",
     "traceback": [
      "\u001b[0;31m---------------------------------------------------------------------------\u001b[0m",
      "\u001b[0;31mNoSuchKey\u001b[0m                                 Traceback (most recent call last)",
      "\u001b[0;32m<ipython-input-144-0e5f0d947d0c>\u001b[0m in \u001b[0;36m<module>\u001b[0;34m\u001b[0m\n\u001b[1;32m      5\u001b[0m \u001b[0mnum_videos\u001b[0m\u001b[0;34m=\u001b[0m\u001b[0;36m1\u001b[0m\u001b[0;34m\u001b[0m\u001b[0;34m\u001b[0m\u001b[0m\n\u001b[1;32m      6\u001b[0m \u001b[0;32mfor\u001b[0m \u001b[0mi\u001b[0m \u001b[0;32min\u001b[0m \u001b[0mrange\u001b[0m\u001b[0;34m(\u001b[0m\u001b[0mnum_videos\u001b[0m\u001b[0;34m)\u001b[0m\u001b[0;34m:\u001b[0m\u001b[0;34m\u001b[0m\u001b[0;34m\u001b[0m\u001b[0m\n\u001b[0;32m----> 7\u001b[0;31m     \u001b[0mentire_transcript_1\u001b[0m\u001b[0;34m,\u001b[0m \u001b[0msentences_and_times_1\u001b[0m\u001b[0;34m,\u001b[0m \u001b[0mconfidences_1\u001b[0m\u001b[0;34m,\u001b[0m \u001b[0mscores_1\u001b[0m \u001b[0;34m=\u001b[0m \u001b[0mget_transcript_text_and_timestamps\u001b[0m\u001b[0;34m(\u001b[0m\u001b[0mBUCKET\u001b[0m\u001b[0;34m,\u001b[0m\u001b[0mjob_names_custom\u001b[0m\u001b[0;34m[\u001b[0m\u001b[0mi\u001b[0m\u001b[0;34m]\u001b[0m\u001b[0;34m+\u001b[0m\u001b[0;34m\".json\"\u001b[0m\u001b[0;34m)\u001b[0m\u001b[0;34m\u001b[0m\u001b[0;34m\u001b[0m\u001b[0m\n\u001b[0m\u001b[1;32m      8\u001b[0m     \u001b[0mall_entire_transcript_custom\u001b[0m\u001b[0;34m.\u001b[0m\u001b[0mappend\u001b[0m\u001b[0;34m(\u001b[0m\u001b[0mentire_transcript_1\u001b[0m\u001b[0;34m)\u001b[0m\u001b[0;34m\u001b[0m\u001b[0;34m\u001b[0m\u001b[0m\n\u001b[1;32m      9\u001b[0m     \u001b[0mall_sentences_and_times_custom\u001b[0m\u001b[0;34m.\u001b[0m\u001b[0mappend\u001b[0m\u001b[0;34m(\u001b[0m\u001b[0msentences_and_times_1\u001b[0m\u001b[0;34m)\u001b[0m\u001b[0;34m\u001b[0m\u001b[0;34m\u001b[0m\u001b[0m\n",
      "\u001b[0;32m<ipython-input-102-0240a267eb03>\u001b[0m in \u001b[0;36mget_transcript_text_and_timestamps\u001b[0;34m(bucket_name, file_name)\u001b[0m\n\u001b[1;32m     22\u001b[0m         )\n\u001b[1;32m     23\u001b[0m     \"\"\"\n\u001b[0;32m---> 24\u001b[0;31m     \u001b[0ms3_clientobj\u001b[0m \u001b[0;34m=\u001b[0m \u001b[0ms3\u001b[0m\u001b[0;34m.\u001b[0m\u001b[0mget_object\u001b[0m\u001b[0;34m(\u001b[0m\u001b[0mBucket\u001b[0m\u001b[0;34m=\u001b[0m\u001b[0mbucket_name\u001b[0m\u001b[0;34m,\u001b[0m \u001b[0mKey\u001b[0m\u001b[0;34m=\u001b[0m\u001b[0mfile_name\u001b[0m\u001b[0;34m)\u001b[0m\u001b[0;34m\u001b[0m\u001b[0;34m\u001b[0m\u001b[0m\n\u001b[0m\u001b[1;32m     25\u001b[0m     \u001b[0ms3_clientdata\u001b[0m \u001b[0;34m=\u001b[0m \u001b[0ms3_clientobj\u001b[0m\u001b[0;34m[\u001b[0m\u001b[0;34m\"Body\"\u001b[0m\u001b[0;34m]\u001b[0m\u001b[0;34m.\u001b[0m\u001b[0mread\u001b[0m\u001b[0;34m(\u001b[0m\u001b[0;34m)\u001b[0m\u001b[0;34m.\u001b[0m\u001b[0mdecode\u001b[0m\u001b[0;34m(\u001b[0m\u001b[0;34m\"utf-8\"\u001b[0m\u001b[0;34m)\u001b[0m\u001b[0;34m\u001b[0m\u001b[0;34m\u001b[0m\u001b[0m\n\u001b[1;32m     26\u001b[0m \u001b[0;34m\u001b[0m\u001b[0m\n",
      "\u001b[0;32m~/anaconda3/envs/python3/lib/python3.6/site-packages/botocore/client.py\u001b[0m in \u001b[0;36m_api_call\u001b[0;34m(self, *args, **kwargs)\u001b[0m\n\u001b[1;32m    389\u001b[0m                     \"%s() only accepts keyword arguments.\" % py_operation_name)\n\u001b[1;32m    390\u001b[0m             \u001b[0;31m# The \"self\" in this scope is referring to the BaseClient.\u001b[0m\u001b[0;34m\u001b[0m\u001b[0;34m\u001b[0m\u001b[0;34m\u001b[0m\u001b[0m\n\u001b[0;32m--> 391\u001b[0;31m             \u001b[0;32mreturn\u001b[0m \u001b[0mself\u001b[0m\u001b[0;34m.\u001b[0m\u001b[0m_make_api_call\u001b[0m\u001b[0;34m(\u001b[0m\u001b[0moperation_name\u001b[0m\u001b[0;34m,\u001b[0m \u001b[0mkwargs\u001b[0m\u001b[0;34m)\u001b[0m\u001b[0;34m\u001b[0m\u001b[0;34m\u001b[0m\u001b[0m\n\u001b[0m\u001b[1;32m    392\u001b[0m \u001b[0;34m\u001b[0m\u001b[0m\n\u001b[1;32m    393\u001b[0m         \u001b[0m_api_call\u001b[0m\u001b[0;34m.\u001b[0m\u001b[0m__name__\u001b[0m \u001b[0;34m=\u001b[0m \u001b[0mstr\u001b[0m\u001b[0;34m(\u001b[0m\u001b[0mpy_operation_name\u001b[0m\u001b[0;34m)\u001b[0m\u001b[0;34m\u001b[0m\u001b[0;34m\u001b[0m\u001b[0m\n",
      "\u001b[0;32m~/anaconda3/envs/python3/lib/python3.6/site-packages/botocore/client.py\u001b[0m in \u001b[0;36m_make_api_call\u001b[0;34m(self, operation_name, api_params)\u001b[0m\n\u001b[1;32m    717\u001b[0m             \u001b[0merror_code\u001b[0m \u001b[0;34m=\u001b[0m \u001b[0mparsed_response\u001b[0m\u001b[0;34m.\u001b[0m\u001b[0mget\u001b[0m\u001b[0;34m(\u001b[0m\u001b[0;34m\"Error\"\u001b[0m\u001b[0;34m,\u001b[0m \u001b[0;34m{\u001b[0m\u001b[0;34m}\u001b[0m\u001b[0;34m)\u001b[0m\u001b[0;34m.\u001b[0m\u001b[0mget\u001b[0m\u001b[0;34m(\u001b[0m\u001b[0;34m\"Code\"\u001b[0m\u001b[0;34m)\u001b[0m\u001b[0;34m\u001b[0m\u001b[0;34m\u001b[0m\u001b[0m\n\u001b[1;32m    718\u001b[0m             \u001b[0merror_class\u001b[0m \u001b[0;34m=\u001b[0m \u001b[0mself\u001b[0m\u001b[0;34m.\u001b[0m\u001b[0mexceptions\u001b[0m\u001b[0;34m.\u001b[0m\u001b[0mfrom_code\u001b[0m\u001b[0;34m(\u001b[0m\u001b[0merror_code\u001b[0m\u001b[0;34m)\u001b[0m\u001b[0;34m\u001b[0m\u001b[0;34m\u001b[0m\u001b[0m\n\u001b[0;32m--> 719\u001b[0;31m             \u001b[0;32mraise\u001b[0m \u001b[0merror_class\u001b[0m\u001b[0;34m(\u001b[0m\u001b[0mparsed_response\u001b[0m\u001b[0;34m,\u001b[0m \u001b[0moperation_name\u001b[0m\u001b[0;34m)\u001b[0m\u001b[0;34m\u001b[0m\u001b[0;34m\u001b[0m\u001b[0m\n\u001b[0m\u001b[1;32m    720\u001b[0m         \u001b[0;32melse\u001b[0m\u001b[0;34m:\u001b[0m\u001b[0;34m\u001b[0m\u001b[0;34m\u001b[0m\u001b[0m\n\u001b[1;32m    721\u001b[0m             \u001b[0;32mreturn\u001b[0m \u001b[0mparsed_response\u001b[0m\u001b[0;34m\u001b[0m\u001b[0;34m\u001b[0m\u001b[0m\n",
      "\u001b[0;31mNoSuchKey\u001b[0m: An error occurred (NoSuchKey) when calling the GetObject operation: The specified key does not exist."
     ]
    }
   ],
   "source": [
    "all_entire_transcript_custom = []\n",
    "all_sentences_and_times_custom = []\n",
    "all_confidences_custom = []\n",
    "all_scores_custom = []\n",
    "num_videos=1\n",
    "for i in range(num_videos):\n",
    "    entire_transcript_1, sentences_and_times_1, confidences_1, scores_1 = get_transcript_text_and_timestamps(BUCKET,job_names_custom[i]+\".json\")\n",
    "    all_entire_transcript_custom.append(entire_transcript_1)\n",
    "    all_sentences_and_times_custom.append(sentences_and_times_1)\n",
    "    all_confidences_custom.append(confidences_1)\n",
    "    all_scores_custom.append(scores_1)"
   ]
  },
  {
   "cell_type": "code",
   "execution_count": 145,
   "metadata": {},
   "outputs": [
    {
     "ename": "IndexError",
     "evalue": "list index out of range",
     "output_type": "error",
     "traceback": [
      "\u001b[0;31m---------------------------------------------------------------------------\u001b[0m",
      "\u001b[0;31mIndexError\u001b[0m                                Traceback (most recent call last)",
      "\u001b[0;32m<ipython-input-145-ea5964ba3aa9>\u001b[0m in \u001b[0;36m<module>\u001b[0;34m\u001b[0m\n\u001b[1;32m      1\u001b[0m \u001b[0;31m# View several sentences\u001b[0m\u001b[0;34m\u001b[0m\u001b[0;34m\u001b[0m\u001b[0;34m\u001b[0m\u001b[0m\n\u001b[0;32m----> 2\u001b[0;31m \u001b[0mprint\u001b[0m\u001b[0;34m(\u001b[0m\u001b[0mall_sentences_and_times_custom\u001b[0m\u001b[0;34m[\u001b[0m\u001b[0;36m0\u001b[0m\u001b[0;34m]\u001b[0m\u001b[0;34m[\u001b[0m\u001b[0;36m0\u001b[0m\u001b[0;34m:\u001b[0m\u001b[0;36m20\u001b[0m\u001b[0;34m]\u001b[0m\u001b[0;34m)\u001b[0m\u001b[0;34m\u001b[0m\u001b[0;34m\u001b[0m\u001b[0m\n\u001b[0m",
      "\u001b[0;31mIndexError\u001b[0m: list index out of range"
     ]
    }
   ],
   "source": [
    "# View several sentences\n",
    "print(all_sentences_and_times_custom[0][0:20])"
   ]
  },
  {
   "cell_type": "markdown",
   "metadata": {},
   "source": [
    "### Write the Improved Transcripts to Txt File"
   ]
  },
  {
   "cell_type": "code",
   "execution_count": 88,
   "metadata": {},
   "outputs": [],
   "source": [
    "# Save the improved transcripts\n",
    "i = 1\n",
    "for list_ in all_sentences_and_times_custom:   \n",
    "    file = open(f\"improved_transcript_{i}.txt\",\"w\")\n",
    "    for tup in list_:\n",
    "        file.write(tup['sentence'] + \"\\n\") \n",
    "    file.close()\n",
    "    i = i + 1"
   ]
  }
 ],
 "metadata": {
  "instance_type": "ml.t3.medium",
  "kernelspec": {
   "display_name": "Python 3 (Data Science)",
   "language": "python",
   "name": "python3__SAGEMAKER_INTERNAL__arn:aws:sagemaker:eu-west-1:470317259841:image/datascience-1.0"
  },
  "language_info": {
   "codemirror_mode": {
    "name": "ipython",
    "version": 3
   },
   "file_extension": ".py",
   "mimetype": "text/x-python",
   "name": "python",
   "nbconvert_exporter": "python",
   "pygments_lexer": "ipython3",
   "version": "3.7.10"
  }
 },
 "nbformat": 4,
 "nbformat_minor": 4
}
